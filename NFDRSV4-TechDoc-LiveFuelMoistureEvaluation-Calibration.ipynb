{
 "cells": [
  {
   "cell_type": "markdown",
   "metadata": {},
   "source": [
    "## Documentation to support the publication: Updating the US National Fire Danger Rating System"
   ]
  },
  {
   "cell_type": "markdown",
   "metadata": {},
   "source": [
    "### Purpose: Evaluate the Growing Season Index-based Live Fuel Moisture Model used in NFDRS Version 4.0 and show a simple method for calibrating the model used field measurements of LFMC."
   ]
  },
  {
   "cell_type": "markdown",
   "metadata": {},
   "source": [
    "<font size=5>NFDRSV4-TechDoc-LiveFuelMoistureEvaluation-Calibration.ipynb</font><br>\n",
    "W. Matt Jolly, william.jolly@usda.gov<br>\n",
    "Patrick H. Freeborn, patrick.h.freeborn@usda.gov<br>\n",
    "USDA Forest Service<br>\n",
    "RMRS Fire Sciences Laboratory<br>\n",
    "Fire, Fuel and Smoke Program<br>\n",
    "5775 Hwy 10 W<br>\n",
    "Missoula, MT 59808<br>\n"
   ]
  },
  {
   "cell_type": "code",
   "execution_count": null,
   "metadata": {},
   "outputs": [],
   "source": [
    "import math, sys, os\n",
    "import numpy as np\n",
    "import pandas as pd\n",
    "import matplotlib as mpl\n",
    "from matplotlib import pyplot as plt\n",
    "from datetime import *\n",
    "from scipy.stats import spearmanr,stats\n",
    "from sklearn.metrics import mean_absolute_error\n",
    "from pandas.plotting import register_matplotlib_converters\n",
    "import matplotlib.cm as cm\n",
    "register_matplotlib_converters()\n",
    "from matplotlib.dates import DateFormatter\n",
    "from src.NFDRSV4PubGraphicsOptions import *\n",
    "import warnings\n",
    "warnings.filterwarnings('ignore')"
   ]
  },
  {
   "cell_type": "code",
   "execution_count": null,
   "metadata": {},
   "outputs": [],
   "source": [
    "### Basic met functions, photoperiod and conversions\n",
    "\n",
    "## fToC Converts Fahrenheit to Celcius\n",
    "## Inputs: f: Temperature in deg F\n",
    "## Returns: c: Temperature in deg C\n",
    "def fToc(f):\n",
    "    return (f -32) * 5/9\n",
    "\n",
    "## cTof Converts Celcius to Fahrenheit\n",
    "## Inputs: c: Temperature in deg C\n",
    "## Returns: f: Temperature in deg F\n",
    "def cTof(c):\n",
    "    return (c * 9/5) + 32\n",
    "INC = 0\t#GSI Function Types, Increasing (Tmin, Dayl)\n",
    "DEC = 1 #GSI Function Types, Decreasing (VPD)\n",
    "MM_2_IN = 0.0393701  # Conversion factor from mm to inches\n",
    "KPH_2_MPH = 0.621371 # Conversion factor from KPH to MPH\n",
    "\n",
    "## Calculate the Photoperiod/Daylength from latitude and day of year (yearday)\n",
    "## Inputs: lat: Latitude in Degrees (90 to -90)\n",
    "##         yday: Yearday (1-366)\n",
    "def CalcDayl(lat,yday):\n",
    "    RADPERDAY = 0.017214\n",
    "    RADPERDEG = 0.01745329\n",
    "    MINDECL = -0.4092797\n",
    "    SECPERRAD = 13750.9871\n",
    "    DAYSOFF = 10.25\n",
    "    # Daylength function from MT-CLIM */\n",
    "    lat = lat * RADPERDEG\n",
    "    if lat > 1.5707:\n",
    "        lat = 1.5707\n",
    "    if lat < -1.5707:\n",
    "        lat = -1.5707\n",
    "    coslat = math.cos(lat)\n",
    "    sinlat = math.sin(lat)\n",
    "\n",
    "    #* calculate cos and sin of declination */\n",
    "    decl = MINDECL * math.cos((yday + DAYSOFF) * RADPERDAY)\n",
    "    cosdecl = math.cos(decl)\n",
    "    sindecl = math.sin(decl)\n",
    "    cosegeom = coslat * cosdecl\n",
    "    sinegeom = sinlat * sindecl\n",
    "    coshss = -(sinegeom) / cosegeom\n",
    "    if coshss < -1.0:\n",
    "        coshss = -1.0  # 24-hr daylight */\n",
    "    if coshss > 1.0:\n",
    "        coshss = 1.0    # 0-hr daylight */\n",
    "    hss = math.acos(coshss)                # hour angle at sunset (radians) */\n",
    "    #* daylength (seconds) */\n",
    "    return 2.0 * hss * SECPERRAD\n",
    "\n",
    "# Function to calculate the Saturation Vapor Pressure for a given temperature.\n",
    "# Note: Function converts internally from F to C.\n",
    "# Input: tempF: Temperature in Deg F\n",
    "# Return: Saturation Vapor Pressure (Pa)\n",
    "def CalcVP(tempF):\n",
    "    tmpC =  (tempF - 32.0) / 1.8\n",
    "    vp = 610.7 * math.exp((17.38 * tmpC)/(239 + tmpC))\n",
    "    return vp\n",
    "\n",
    "# Calculate the VPD from RH and temperature\n",
    "# Inputs: RH: Relative Humidity in Percent (1-100)\n",
    "#         TempF: Temperature in Deg F\n",
    "# Return: Vapor Pressure Deficit (Pa)\n",
    "def CalcVPD(RH, TempF):\n",
    "    vp = CalcVP(TempF)\n",
    "    vpd = vp - (RH / 100) * vp\n",
    "    if(vpd < 0.0):\n",
    "        vpd = 0.0;\n",
    "    return vpd\n",
    "\n"
   ]
  },
  {
   "cell_type": "code",
   "execution_count": null,
   "metadata": {},
   "outputs": [],
   "source": [
    "# A class to contains all of the parameters used to derived GSI.  This makes it easier to iterate through parameter spaces for\n",
    "# for optimization\n",
    "class GSILimits:\n",
    "    TminLow = -2       # Lower limit for minimum temperature (C)\n",
    "    TminUp = 5         # Upper limit for minimum temperature (C)\n",
    "    DaylLow = 36000    # Lower limit for daylength (seconds)\n",
    "    DaylUp = 39600     # Upper limit for daylength (seconds)\n",
    "    VPDLow = 900       # Lower limit for VPD (pascals)\n",
    "    VPDUp = 4100       # Upper limit for VPD (pascals)\n",
    "    PrcpRTLow = 0    # Lower limit for running total precip (inches)\n",
    "    PrcpRTUp = 0.393     # Upper limit for running total precip (inches)\n",
    "    PrcpRTPeriod = 28  # Running total period for precipitaiton (days)\n",
    "    GSIPeriod = 28     # Running average period for final GSI (days)\n",
    "    GUThresh = 0.2    # Green-up threshold (dim)\n",
    "    LFMMax = 200       # Maximum fuel moisture (% dry wt)\n",
    "    LFMMin = 60        # Minimum fuel moisture (% dry wt)\n",
    "    Lat = 45           # Station latitude (degrees)"
   ]
  },
  {
   "cell_type": "code",
   "execution_count": null,
   "metadata": {},
   "outputs": [],
   "source": [
    "# Helper function to set the GSI Limits class values based on the list of calibrated parameters\n",
    "# gsilim: An instance of the GSILimits class\n",
    "# gsiparams: an 11 element list of GSI parameters\n",
    "# LFMMin: minimum live fuel moisture limit for model\n",
    "# LFMMax: maximum live fuel moisture limit for model\n",
    "# Lat: Latitude of the estimatation location (used in photoperiod calculations)\n",
    "def SetGSILimits(gsilim,gsiparams,LFMMin,LFMMax, Lat):\n",
    "    gsilim.TminLow = gsiparams[0] \n",
    "    gsilim.TminUp = gsiparams[1]\n",
    "    gsilim.VPDLow = gsiparams[2]\n",
    "    gsilim.VPDUp = gsiparams[3]\n",
    "    gsilim.DaylLow = gsiparams[4]\n",
    "    gsilim.DaylUp = gsiparams[5]\n",
    "    gsilim.PrcpRTLow = gsiparams[6]\n",
    "    gsilim.PrcpRTUp = gsiparams[7]\n",
    "    gsilim.GSIPeriod = gsiparams[8]\n",
    "    gsilim.GUThresh = gsiparams[9]\n",
    "    gsilim.PrcpRTPeriod = gsiparams[10]\n",
    "    gsilim.LFMMin = LFMMin\n",
    "    gsilim.LFMMax = LFMMax\n",
    "    gsilim.Lat = Lat\n",
    "    return gsilim"
   ]
  },
  {
   "cell_type": "markdown",
   "metadata": {},
   "source": [
    "## Ramp function for GSI calculations"
   ]
  },
  {
   "cell_type": "code",
   "execution_count": null,
   "metadata": {},
   "outputs": [],
   "source": [
    "# GSI indicator/ramp function\n",
    "def Ind(Var,Low,Up):\n",
    "    # Make sure all the input variables are numbers\n",
    "    Var = float(Var)\n",
    "    Low = float(Low)\n",
    "    Up = float(Up)\n",
    "    if(Up == Low):  # Upper (Up) and Lower (Low) can't be the same\n",
    "        return 0\n",
    "    if( Var < Low):  # If the variables is less than the lower limit, return 0\n",
    "        return 0\n",
    "    elif(Var > Up):  # If the variables is greater than the upper limit, return 1\n",
    "        return 1\n",
    "    else:            # If the variables is between the lower and upper limits, return the proportion\n",
    "        return (Var - Low) / (Up - Low)"
   ]
  },
  {
   "cell_type": "markdown",
   "metadata": {},
   "source": [
    "## Function to calculate the Growing Season Index"
   ]
  },
  {
   "cell_type": "code",
   "execution_count": null,
   "metadata": {},
   "outputs": [],
   "source": [
    "# Function to calculate GSI, Scaled GSI and Live Fuel Moisture on a DataFrame\n",
    "# df: Pandas DataFrame of daily weather data\n",
    "# assumes the following labeled columns: \"Tmin: minimum temperature (deg F), VPDMax: Max daily VPD (Pa)\n",
    "#                                          and Prcp: 24 hour total precipitation (Inches)\"\n",
    "# gsilim: An instance of the GSILimits class \n",
    "# PLowLim and PUpperLim: Date range for model predictions\n",
    "\n",
    "def CalcGSI(df,gsilim,PLowLim='2014-01-01',PUpperLim = '2020-12-31'):\n",
    "    # Filter the dataset for a 5 year period\n",
    "    df = df[(df['DateTime'] > PLowLim) & (df['DateTime'] <= PUpperLim)].copy()\n",
    "    # Compute and store the day of the year for use in calculating Daylength\n",
    "    df['JDay'] = df.DateTime.dt.dayofyear\n",
    "    # Minimum Temperature\n",
    "    df['TminC'] =  (df.Tmin - 32.0) * 5.0 / 9.0; # Convert Tmin from Fahrenheit to celcuius\n",
    "    df['TminInd'] = df.apply(lambda row: Ind(row['TminC'],gsilim.TminLow,gsilim.TminUp),axis=1)\n",
    "    # Vapor Pressure Deficit\n",
    "    df['VPDInd']= df.apply(lambda row: 1 - Ind(row['VPDMax'],gsilim.VPDLow,gsilim.VPDUp),axis=1)\n",
    "    # Photoperiod / Daylength\n",
    "    # First, calculate the Daylength for each observation day (this uses site latitude and julian day)\n",
    "    df['Dayl'] = df.apply(lambda row: CalcDayl(gsilim.Lat,row['JDay']),axis=1)  \n",
    "    df['DaylInd']= df.apply(lambda row: Ind(row['Dayl'],gsilim.DaylLow,gsilim.DaylUp),axis=1)\n",
    "    # Running Total Precipitation\n",
    "    df['Prcp_RT'] = df['Prcp'].rolling(gsilim.PrcpRTPeriod).sum()\n",
    "    df['PrcpInd'] = df.apply(lambda row: Ind(row['Prcp_RT'],gsilim.PrcpRTLow,gsilim.PrcpRTUp),axis=1)\n",
    "\n",
    "    #################################################################                  \n",
    "    # Daily GSI for four ramp model\n",
    "    df['iGSI_PE'] = df['TminInd'] * df['VPDInd'] * df['DaylInd'] * df['PrcpInd']\n",
    "    # Smoothed GSI (running average over the GSIPeriod)\n",
    "    df['GSI_PE'] = df['iGSI_PE'].rolling(gsilim.GSIPeriod).mean()\n",
    "    # Rescale the final GSI time series\n",
    "    df['GSI_PE_RS'] = df['GSI_PE']/ df['GSI_PE'].quantile(1)\n",
    "\n",
    "    # Calculate LFMC from Rescaled GSI\n",
    "    df['LFMC'] = df.apply(lambda row: CalcLFMFromGSI(row['GSI_PE_RS'],gsilim.GUThresh,gsilim.LFMMin, gsilim.LFMMax),axis=1)\n",
    "    return df\n"
   ]
  },
  {
   "cell_type": "markdown",
   "metadata": {},
   "source": [
    "## Transform GSI to LFMC"
   ]
  },
  {
   "cell_type": "code",
   "execution_count": null,
   "metadata": {},
   "outputs": [],
   "source": [
    "## Function to transform GSI to LFMC\n",
    "def CalcLFMFromGSI(gsi,GUThresh,LFMMin,LFMMax):\n",
    "    m = (LFMMax - LFMMin) / (1 - GUThresh)\n",
    "    b = LFMMax - m\n",
    "    # Scale GSI between min and max LFMC if gsi is above the green-up threshold\n",
    "    if(gsi >= GUThresh):\n",
    "        LFM = m*gsi + b\n",
    "    # Below the Green-up Threshold, set the value to minimum LFM\n",
    "    else:\n",
    "        LFM = LFMMin\n",
    "    return(LFM)"
   ]
  },
  {
   "cell_type": "markdown",
   "metadata": {},
   "source": [
    "## Function to calculate and compare GSI using weather obs, measured LFMC and a set of GSI-LFM parameters"
   ]
  },
  {
   "cell_type": "code",
   "execution_count": null,
   "metadata": {},
   "outputs": [],
   "source": [
    "# Produce a table entry comparing 78 and GSI/GSIp LFM to Observations\n",
    "def MakeGSILFMCompareTable4Param(Temp,LFMObs,BestParams,label=\"\",UseLFMMinMax = True,Herb=True,Lat=45):\n",
    "    PLowLim='2015-01-01'\n",
    "    PUpperLim = '2019-12-31'\n",
    "    \n",
    "    # Label the DataFrame columns so they match the GSI function\n",
    "    Temp = Temp.rename(columns={\"MinT\": \"Tmin\", \"VPDM\": \"VPDMax\", \"Rain\":\"Prcp\"})\n",
    "    # Lookup the appropriate live fuel moisture ranges\n",
    "    LFMMin,LFMMax = GetLFMRange(LFMObs,UseLFMMinMax,Herb)\n",
    "    gsilim = GSILimits\n",
    "    newgsilim = SetGSILimits(gsilim,BestParams,LFMMin,LFMMax,Lat)\n",
    "    \n",
    "    # Calculate the GSI\n",
    "    t = CalcGSI(Temp,newgsilim)\n",
    "    \n",
    "    # Assign the components back to the dataframe\n",
    "    Temp['GSI_PE_RS'] = t['GSI_PE_RS']\n",
    "    Temp['LFMC'] = t['LFMC']  \n",
    "    Temp['TminInd'] = t['TminInd']\n",
    "    Temp['VPDInd'] = t['VPDInd']\n",
    "    Temp['DaylInd'] = t['DaylInd']\n",
    "    Temp['PrcpInd'] = t['PrcpInd']\n",
    "    \n",
    "    # Merge the GSI and LFM obs dataframes\n",
    "    MetLFMMerge = LFMObs.merge(Temp, left_on='DateTime', right_on='DateTime', suffixes=(False, False))\n",
    "\n",
    "    # Trim the dataset to the analysis date range\n",
    "    MetLFMMerge = MetLFMMerge[(MetLFMMerge['DateTime'] > PLowLim) & (MetLFMMerge['DateTime'] <= PUpperLim)]\n",
    " \n",
    "    # Compare the GSI-LFMC (NFDRS-V4) to measured LFMC\n",
    "    s2,p2 = spearmanr(MetLFMMerge['Percent'],MetLFMMerge['LFMC']*100,nan_policy=\"omit\")\n",
    "    mae2 = mean_absolute_error(MetLFMMerge['Percent'], MetLFMMerge['LFMC'])\n",
    "    \n",
    "    # Compare the old LFMC (NFDRS V2) to measure LFMC\n",
    "    if Herb:\n",
    "        s3,p3 = spearmanr(MetLFMMerge['Percent'],MetLFMMerge['FMH'])\n",
    "        mae3 = mean_absolute_error(MetLFMMerge['Percent'], MetLFMMerge['FMH'])\n",
    "    else:\n",
    "        s3,p3 = spearmanr(MetLFMMerge['Percent'],MetLFMMerge['FMW'])\n",
    "        mae3 = mean_absolute_error(MetLFMMerge['Percent'], MetLFMMerge['FMW'])\n",
    "    \n",
    "    return([label,round(s2,3),round(p2,3),round(mae2,3),round(s3,3),round(p3,3),round(mae3,3),len(MetLFMMerge['Percent'])])"
   ]
  },
  {
   "cell_type": "code",
   "execution_count": null,
   "metadata": {},
   "outputs": [],
   "source": [
    "# Function to provide a bounded list of lower and upper values that ensures \n",
    "# that min is always less than max\n",
    "# To be used in a Grid Search Optimization for GSI parameters\n",
    "def MakeParamRange(minValue,maxValue,interv):\n",
    "    lower = []\n",
    "    upper = []\n",
    "    for x in range(minValue,maxValue+1,interv): \n",
    "        for y in range(minValue,maxValue+1,interv):\n",
    "            if(x < y):\n",
    "                #print(paste(x,y))\n",
    "                lower.append(x)\n",
    "                upper.append(y)\n",
    "    d = {'Lower': lower, 'Upper': upper}\n",
    "    df = pd.DataFrame(data=d)\n",
    "    return(df)\n",
    "    \n",
    "\n",
    "def GridSearchOptimizeGSILFM(Temp,LFMDat,label,maxSim = 2,mySeed = 123456,UseLFMMinMax = False,Herb=True,PInt = 20):\n",
    "    DEBUG = False\n",
    "      \n",
    "    # Create a range of smoothing / running precip period length ranges intervals\n",
    "    smint = range(21,60,1)\n",
    "    dfsmint = pd.DataFrame(data={'SMInt': smint})\n",
    "    \n",
    "    #### Get a Random Set of Parameters\n",
    "    # Make the VPD ranges\n",
    "    iVPDP = MakeParamRange(500, 9000, 500)\n",
    "    # Make the Temperature ranges\n",
    "    iTMinP = MakeParamRange(-5, 10,1)\n",
    "    # Make the Daylength Ranges\n",
    "    iDaylP = MakeParamRange(32400,46800,3600)\n",
    "    # Make the Prcp ranges\n",
    "    iPrcpP = MakeParamRange(0,50,1)\n",
    "    iPrcpP = (iPrcpP/10)\n",
    "\n",
    "    # Make the green-up threshold \n",
    "    iThreshP = []\n",
    "    for i in range(0,81,10):\n",
    "        iThreshP.append(float(i/100))\n",
    "    iThreshP = pd.DataFrame(data={'iThresh': iThreshP})    \n",
    "\n",
    "    \n",
    "    BestS = 0\n",
    "    BestParams = []\n",
    "    \n",
    "    for i in range(0,maxSim):\n",
    "        \n",
    "        rs = dfsmint.sample(n=1,random_state=mySeed+i)\n",
    "        smint = rs.iloc[0].SMInt.astype(int)\n",
    "        \n",
    "        # VPD Params\n",
    "        rs = iVPDP.sample(n=1,random_state=mySeed+i)\n",
    "        iVPDMin = rs.iloc[0].Lower\n",
    "        iVPDMax = rs.iloc[0].Upper\n",
    "        \n",
    "        # TMin Params\n",
    "        rs = iTMinP.sample(n=1,random_state=mySeed+i)\n",
    "        iTminMin = rs.iloc[0].Lower\n",
    "        iTminMax = rs.iloc[0].Upper\n",
    "\n",
    "        # Daylength Params\n",
    "        rs = iDaylP.sample(n=1,random_state=mySeed+i)\n",
    "        iDaylMin = rs.iloc[0].Lower\n",
    "        iDaylMax = rs.iloc[0].Upper\n",
    "\n",
    "        # RT Precip Params\n",
    "        rs = iPrcpP.sample(n=1,random_state=mySeed+i)\n",
    "        iPrcpMin = rs.iloc[0].Lower\n",
    "        iPrcpMax = rs.iloc[0].Upper\n",
    "\n",
    "        # Greenup Threshold \n",
    "        rs = iThreshP.sample(n=1,random_state=mySeed+i)\n",
    "        iThreshVal = rs.iloc[0].iThresh.astype(float)\n",
    "        \n",
    "        Params = [iTminMin,iTminMax,iVPDMin,iVPDMax,iDaylMin,iDaylMax,iPrcpMin,iPrcpMax,smint,iThreshVal,smint]\n",
    "               \n",
    "        S =  MakeGSILFMCompareTable4Param(Temp,LFMDat,Params,label=label,UseLFMMinMax = UseLFMMinMax,Herb=Herb)\n",
    "        if(S[1] > BestS):\n",
    "            BestS = S[1]\n",
    "            BestParams = Params\n",
    "        if i % PInt == 0:\n",
    "            print(S,BestS)\n",
    "    return(BestParams)\n",
    "       "
   ]
  },
  {
   "cell_type": "code",
   "execution_count": null,
   "metadata": {},
   "outputs": [],
   "source": [
    "# Helper function for reading the NFMD measured live fuel moisture data \n",
    "def ReadNFMDData(filename):\n",
    "        # Read in data\n",
    "        colspecs = [(0, 8), (9, 13), (13, 25), (25, 53), (53, 65), (65, 73)]\n",
    "        data = pd.read_csv(filename, sep='\\t')\n",
    "        data['DateTime']=pd.to_datetime(data['Date'].astype(str) + \" 13\", format='%Y-%m-%d %H')\n",
    "        return data \n",
    "\n",
    "# Helper function to derive historical min and max LFMC value from a NFMD set of measurements\n",
    "def GetLFMRange(LFMObs,UseLFMMinMax,Herb):\n",
    "    # Set the default green-up threshold and min / max live fuel moisture\n",
    "    if not UseLFMMinMax:\n",
    "        if Herb:\n",
    "            LFMMin = 30\n",
    "            LFMMax = 250\n",
    "        else:\n",
    "            LFMMin = 60\n",
    "            LFMMax = 200\n",
    "    else:\n",
    "        LFMMin = LFMObs['Percent'].quantile(0.05).astype(int)\n",
    "        LFMMax = LFMObs['Percent'].quantile(0.95).astype(int)\n",
    "    return(LFMMin,LFMMax)\n",
    "\n",
    "# Helper function for reading the FireFamily+ weather data and formatting columns corrected for use as Pandas dataframes\n",
    "def GetMet(inFileName,Lat,delLast=False):\n",
    "    Met = pd.read_csv(inFileName)\n",
    "\n",
    "    Met.rename(columns=lambda x: x.strip(), inplace=True)\n",
    "    ind = len(Met.columns)\n",
    "    print(ind)\n",
    "    if delLast:\n",
    "        Met=Met.drop(Met.columns[[ind - 1]],axis=1)\n",
    "    Met['DateTime']=pd.to_datetime(Met['DATE'].astype(str) + \" 13\", format='%m/%d/%Y %H')\n",
    "    MaxRain = float(Met['Rain'].quantile([0.999]).values)\n",
    "    #print(MaxRain)\n",
    "    Met['Rain'].values[Met['Rain'] > MaxRain] = MaxRain\n",
    "    Met['RunSumPrcp'] = Met['Rain'].rolling(30).sum()\n",
    "    # Data Prep\n",
    "    Met['MinTC'] = fToc(Met['MinT'])\n",
    "    JDay = []\n",
    "    Dayl = []\n",
    "    for index, row in Met.iterrows():\n",
    "        jday = int(row.DateTime.strftime(format=\"%j\"))\n",
    "        JDay.append(jday)\n",
    "        dayl = CalcDayl(Lat,jday) \n",
    "        Dayl.append(dayl)\n",
    "    Met['Dayl'] = Dayl\n",
    "    Met['JDay'] = JDay\n",
    "    return Met"
   ]
  },
  {
   "cell_type": "code",
   "execution_count": null,
   "metadata": {},
   "outputs": [],
   "source": [
    "# Read in the weather data and format them into Pandas dataframes\n",
    "# Note: These data were created using FireFamily+ and they include the weather, Max VPD and the calculated NFDRS Version 2 live fuel moisture content\n",
    "Lat421501 = 39.58\n",
    "FName = r'./data/421501.csv'\n",
    "Met421501 = GetMet(FName,Lat421501,True)\n",
    "Lat045433 = 34.08\n",
    "FName = r'./data/045433.csv'\n",
    "Met045433 = GetMet(FName,Lat045433,True) \n",
    "Met045433 = Met045433.dropna()"
   ]
  },
  {
   "cell_type": "code",
   "execution_count": null,
   "metadata": {},
   "outputs": [],
   "source": [
    "# Read field-measured live fuel moisture values obtained from the US National Fuel Moisture Database\n",
    "# These files were exported from the National Fuel Moisture Database\n",
    "UT_ArtTri = ReadNFMDData(\"./data/EGBC_UT_FillmoreFieldOffice_SevierReservoir_SagebrushBasinBig_data.txt\")\n",
    "UT_BroTec = ReadNFMDData(\"./data/EGBC_UT_FillmoreFieldOffice_SevierReservoir_Cheatgrass_data.txt\")\n",
    "CA_Chamise = ReadNFMDData(\"./data/SOCC_CA_LACounty_LaurelCanyon,Mt.Olympus_data.txt\")"
   ]
  },
  {
   "cell_type": "code",
   "execution_count": null,
   "metadata": {},
   "outputs": [],
   "source": [
    "# GSI-LFMC default parameters\n",
    "GU = 0.2\n",
    "Days = 28\n",
    "defParams = [-2, 5, 900, 4100, 36000, 39600, 0, 0.393701, Days,GU,Days]"
   ]
  },
  {
   "cell_type": "code",
   "execution_count": null,
   "metadata": {},
   "outputs": [],
   "source": [
    "## Max number of simulations for Grid Search Optimizations\n",
    "maxSims = 10000\n",
    "## Random seed number to ensure results are random but repeatable\n",
    "mySeed = 123456"
   ]
  },
  {
   "cell_type": "markdown",
   "metadata": {},
   "source": [
    "These simulations have already been run and the results saved below. Using the mySeed parameter, they are randomly sampled but repeatable, so enabling SIM would re-run the Grid Search Optimization for each of the three species but should yield the same final parameter set."
   ]
  },
  {
   "cell_type": "code",
   "execution_count": null,
   "metadata": {},
   "outputs": [],
   "source": [
    "SIM = False\n",
    "if SIM:\n",
    "    results_brotec = GridSearchOptimizeGSILFM(Met421501,UT_BroTec,\"UT_BroTec\",maxSim = maxSims,mySeed=mySeed,UseLFMMinMax = True,Herb=True)\n",
    "    results_arttri = GridSearchOptimizeGSILFM(Met421501,UT_ArtTri,\"UT_ArtTri\",maxSim = maxSims,mySeed=mySeed,UseLFMMinMax = True,Herb=False)\n",
    "    results_adefas = GridSearchOptimizeGSILFM(Met045433,CA_Chamise,\"CA_AdeFas\",maxSim = maxSims,mySeed=mySeed,UseLFMMinMax = True,Herb=False)"
   ]
  },
  {
   "cell_type": "code",
   "execution_count": null,
   "metadata": {},
   "outputs": [],
   "source": [
    "# Load the stored Grid Search Optimized parameter sets for each of the three species. These can be re-run by setting SIM to True in the above cell"
   ]
  },
  {
   "cell_type": "code",
   "execution_count": null,
   "metadata": {},
   "outputs": [],
   "source": [
    "# [-4, 0, 2500, 4000, 32400, 36000, 1.5, 3.0, 55, 0.0, 55]\n",
    "results_adefas = [-4, 0, 2500, 4000, 32400, 36000, 1.5, 3.0, 55, 0.0, 55]"
   ]
  },
  {
   "cell_type": "code",
   "execution_count": null,
   "metadata": {},
   "outputs": [],
   "source": [
    "# [-4, -1, 2000, 5500, 32400, 43200, 0.2, 0.8, 50, 0.2, 50]\n",
    "results_brotec = [-4, -1, 2000, 5500, 32400, 43200, 0.2, 0.8, 50, 0.2, 50]"
   ]
  },
  {
   "cell_type": "code",
   "execution_count": null,
   "metadata": {},
   "outputs": [],
   "source": [
    "# [-5, -1, 2000, 4000, 32400, 43200, 0.1, 0.4, 59, 0.2, 59]\n",
    "results_arttri = [-5, -1, 2000, 4000, 32400, 43200, 0.1, 0.4, 59, 0.2, 59]"
   ]
  },
  {
   "cell_type": "code",
   "execution_count": null,
   "metadata": {},
   "outputs": [],
   "source": [
    "# Previous fits to the LFM model\n",
    "#CA_ChamiseBestParams = [-2, 10, 500, 5500, 32400, 36000, 0.9, 3.6, 50, 0.0, 50]\n",
    "#UT_ArtTriBestParams = [-4, 2, 1000, 3500, 39600, 43200, 0.0, 3.6, 52, 0.0, 52]\n",
    "#UT_BroTecBestParams = [-4, 4, 500, 3500, 32400, 39600, 0.0, 1.1, 55, 0.0, 55]"
   ]
  },
  {
   "cell_type": "code",
   "execution_count": null,
   "metadata": {},
   "outputs": [],
   "source": [
    "CA_ChamiseBestParams = results_adefas\n",
    "UT_ArtTriBestParams = results_arttri\n",
    "UT_BroTecBestParams = results_brotec"
   ]
  },
  {
   "cell_type": "code",
   "execution_count": null,
   "metadata": {},
   "outputs": [],
   "source": [
    "def MakeGSILFMCompareNew(Temp,LFMObs,BestParams,UseLFMMinMax = True,PLowLim='2015-01-01',PUpperLim = '2019-12-31',UsePrcp=False,Lat=45,Herb=False):\n",
    "   \n",
    "    # Label the DataFrame columns so they match the GSI function\n",
    "    Temp = Temp.rename(columns={\"MinT\": \"Tmin\", \"VPDM\": \"VPDMax\", \"Rain\":\"Prcp\"}).copy()\n",
    "   \n",
    "    # Set the default green-up threshold and min / max live fuel moisture \n",
    "    LFMMin,LFMMax = GetLFMRange(LFMObs,UseLFMMinMax,Herb)\n",
    "    #print({\"UseLFMMinMax\":UseLFMMinMax,\"Herb\":Herb,\"LFMMin\":LFMMin,\"LFMMax\":LFMMax})\n",
    "    gsilim = GSILimits\n",
    "    newgsilim = SetGSILimits(gsilim,BestParams,LFMMin,LFMMax,Lat)\n",
    "    \n",
    "    # Calculate the GSI\n",
    "    t = CalcGSI(Temp,newgsilim)\n",
    "    Temp['GSI_PE_RS'] = t['GSI_PE_RS']\n",
    "    Temp['LFMC'] = t['LFMC']  \n",
    "    Temp['TminInd'] = t['TminInd']\n",
    "    Temp['VPDInd'] = t['VPDInd']\n",
    "    Temp['DaylInd'] = t['DaylInd']\n",
    "    Temp['PrcpInd'] = t['PrcpInd']\n",
    "    \n",
    "    # Merge and filter to limit date range\n",
    "    MetLFMMerge = LFMObs.merge(Temp, left_on='DateTime', right_on='DateTime', suffixes=(False, False))\n",
    "    MetLFMMerge = MetLFMMerge[(MetLFMMerge['DateTime'] > PLowLim) & (MetLFMMerge['DateTime'] <= PUpperLim)]\n",
    "        \n",
    "    if MetLFMMerge.LFMC.std() == 0:\n",
    "        s2 = [-999.9]\n",
    "        mae = 999.9\n",
    "    else:\n",
    "        s2,p2 = spearmanr(MetLFMMerge['Percent'],MetLFMMerge['LFMC']*100,nan_policy=\"omit\")\n",
    "        mae = mean_absolute_error(MetLFMMerge['Percent'], MetLFMMerge['LFMC'])\n",
    "\n",
    "    return([s2,mae,MetLFMMerge])\n"
   ]
  },
  {
   "cell_type": "code",
   "execution_count": null,
   "metadata": {},
   "outputs": [],
   "source": [
    "# Cheatgrass\n",
    "temp1a =  MakeGSILFMCompareTable4Param(Met421501,UT_BroTec,defParams,label=\"UT_BroTecDefaults\",UseLFMMinMax = False,Herb=True,Lat=Lat421501)\n",
    "temp1b = MakeGSILFMCompareTable4Param(Met421501,UT_BroTec,UT_BroTecBestParams,label=\"UT_BroTecGSO\",UseLFMMinMax = True,Herb=True,Lat=Lat421501)\n",
    "\n",
    "# Sagebrush\n",
    "temp2a =  MakeGSILFMCompareTable4Param(Met421501,UT_ArtTri,defParams,label=\"UT_ArtTriDefaults\",UseLFMMinMax = False,Herb=False,Lat=Lat421501)\n",
    "temp2b =  MakeGSILFMCompareTable4Param(Met421501,UT_ArtTri,UT_ArtTriBestParams,label=\"UT_ArtTriGSI\",UseLFMMinMax = True,Herb=False,Lat=Lat421501)\n",
    "\n",
    "# Chamise\n",
    "temp3a =  MakeGSILFMCompareTable4Param(Met045433,CA_Chamise,defParams,label=\"CA_ChamiseDefaults\",UseLFMMinMax = False,Herb=False,Lat=Lat045433)\n",
    "temp3b =  MakeGSILFMCompareTable4Param(Met045433,CA_Chamise,CA_ChamiseBestParams,label=\"CA_ChamiseGSO\",UseLFMMinMax = True,Herb=False,Lat=Lat045433)"
   ]
  },
  {
   "cell_type": "markdown",
   "metadata": {},
   "source": [
    "## Create Table 9 from the Technical Document"
   ]
  },
  {
   "cell_type": "code",
   "execution_count": null,
   "metadata": {},
   "outputs": [],
   "source": [
    "# \n",
    "data = [temp1a,temp1b,temp2a,temp2b,temp3a,temp3b]\n",
    "pd.DataFrame(data, columns=[\"Site_Species\",\"rho_GSI-LFMC\",\"GSI-LFMC-pval\",\"GSI-LFMC-MAE\",\"rho_LFMC-V2\",\"LFMC-V2-pval\",\"LFMC-V2-MAE\",\"N\"])\n"
   ]
  },
  {
   "cell_type": "code",
   "execution_count": null,
   "metadata": {},
   "outputs": [],
   "source": [
    "def GetMetMerge(Met,LFMObs,BestParams,UseLFMMinMax,Lat=45,Herb=False):\n",
    "    UsePrcp = True\n",
    "    LFMMin,LFMMax = GetLFMRange(LFMObs,UseLFMMinMax,Herb)\n",
    "    #print(LFMMin,LFMMax)\n",
    "    t = MakeGSILFMCompareNew(Met,LFMObs,BestParams,UseLFMMinMax,UsePrcp=UsePrcp,Lat=Lat,Herb=Herb)\n",
    "    return( t[2])\n",
    "#MM_UT_BroTec = GetMetMerge(Met421501, UT_BroTec,UT_BroTecBestParams,UseLFMMinMax=False,Lat=Lat421501,Herb=True)"
   ]
  },
  {
   "cell_type": "code",
   "execution_count": null,
   "metadata": {},
   "outputs": [],
   "source": [
    "MM_UT_BroTec = GetMetMerge(Met421501, UT_BroTec,UT_BroTecBestParams,UseLFMMinMax=True,Lat=Lat421501,Herb=True)\n",
    "MM_UT_ArtTri = GetMetMerge(Met421501, UT_ArtTri,UT_ArtTriBestParams,UseLFMMinMax=True,Lat=Lat421501)\n",
    "MM_CA_Chamise = GetMetMerge(Met045433,CA_Chamise,CA_ChamiseBestParams,UseLFMMinMax=True,Lat=Lat045433)"
   ]
  },
  {
   "cell_type": "code",
   "execution_count": null,
   "metadata": {},
   "outputs": [],
   "source": [
    "MM_UT_BroTec.index.size + MM_UT_ArtTri.index.size + MM_CA_Chamise.index.size"
   ]
  },
  {
   "cell_type": "code",
   "execution_count": null,
   "metadata": {},
   "outputs": [],
   "source": [
    "MM_UT_BroTecOpt = GetMetMerge(Met421501, UT_BroTec,UT_BroTecBestParams,UseLFMMinMax=True,Lat=Lat421501,Herb=True)\n",
    "MM_UT_ArtTriOpt = GetMetMerge(Met421501, UT_ArtTri,UT_ArtTriBestParams,UseLFMMinMax=True,Lat=Lat421501)\n",
    "MM_CA_AdeFasOpt = GetMetMerge(Met045433,CA_Chamise,results_adefas,UseLFMMinMax=True,Lat=Lat045433)"
   ]
  },
  {
   "cell_type": "code",
   "execution_count": null,
   "metadata": {},
   "outputs": [],
   "source": [
    "MM_UT_BroTec['DateTime'] = pd.to_datetime(MM_UT_BroTec['DateTime'],format='%Y-%m-%d %H:%M:%S')\n",
    "MM_UT_ArtTri['DateTime'] = pd.to_datetime(MM_UT_ArtTri['DateTime'],format='%Y-%m-%d %H:%M:%S')\n",
    "MM_CA_Chamise['DateTime'] = pd.to_datetime(MM_CA_Chamise['DateTime'],format='%Y-%m-%d %H:%M:%S')"
   ]
  },
  {
   "cell_type": "code",
   "execution_count": null,
   "metadata": {
    "scrolled": true
   },
   "outputs": [],
   "source": [
    "f,ax = plt.subplots(3,1,figsize=(5,8))\n",
    "## Plot BroTec\n",
    "MM_UT_BroTec.plot.scatter(x='DateTime',y='LFMC',ax=ax[0],marker=mkr_nf1,color=clr_nf1, edgecolor=clr_edg_nf)\n",
    "MM_UT_BroTec.plot.scatter(x='DateTime',y='Percent',ax=ax[0],marker=mkr_nf2,color=clr_nf2, edgecolor=clr_edg_nf)\n",
    "ax[0].set_xlim([datetime(2015, 1, 1), datetime(2019, 12, 31)])\n",
    "ax[0].set_xlabel(\"\")\n",
    "ax[0].set_title(\"Bromus tectorum (Cheatgrass)\", style='italic')\n",
    "\n",
    "# Define the date format\n",
    "date_form = DateFormatter(\"%Y\")\n",
    "ax[0].xaxis.set_major_formatter(date_form)\n",
    "# Setting the number of ticks\n",
    "ax[0].xaxis.set_major_locator(plt.MaxNLocator(7))\n",
    "ax[0].set_xlabel('')\n",
    "ax[0].set_ylabel('LFMC (% dry wt)')\n",
    "\n",
    "## Plot ArtTri\n",
    "ax[1].set_title(\"Artemisia tridentata (Basin Big Sagebrush)\", style='italic')\n",
    "MM_UT_ArtTri.plot.scatter(x='DateTime',y='LFMC',ax=ax[1],marker=mkr_nf1,color=clr_nf1, edgecolor=clr_edg_nf)\n",
    "MM_UT_ArtTri.plot.scatter(x='DateTime',y='Percent',ax=ax[1],marker=mkr_nf2,color=clr_nf2, edgecolor=clr_edg_nf)\n",
    "ax[1].set_xlim([datetime(2015, 1, 1), datetime(2019, 12, 31)])\n",
    "ax[1].set_xlabel(\"\")\n",
    "ax[1].xaxis.set_major_formatter(date_form)\n",
    "ax[1].xaxis.set_major_locator(plt.MaxNLocator(7))\n",
    "ax[1].set_xlabel('')\n",
    "ax[1].set_ylabel('LFMC (% dry wt)')\n",
    "\n",
    "## Plot AdeFas\n",
    "ax[2].set_title(\"Adenostoma fasciculatum (Chamise)\", style='italic')\n",
    "MM_CA_Chamise.plot.scatter(x='DateTime',y='LFMC',ax=ax[2],marker=mkr_nf1,color=clr_nf1, edgecolor=clr_edg_nf,label='Modeled LFMC')\n",
    "MM_CA_Chamise.plot.scatter(x='DateTime',y='Percent',ax=ax[2],marker=mkr_nf2,color=clr_nf2, edgecolor=clr_edg_nf,label='Measured LFMC')\n",
    "ax[2].set_xlim([datetime(2015, 1, 1), datetime(2019, 12, 31)])\n",
    "ax[2].set_xlabel(\"Date\")\n",
    "ax[2].xaxis.set_major_locator(plt.MaxNLocator(7))\n",
    "ax[2].xaxis.set_major_formatter(date_form)\n",
    "ax[2].set_xlabel('Date')\n",
    "ax[2].set_ylabel('LFMC (% dry wt)')\n",
    "\n",
    "ax[2].legend(loc='upper center', bbox_to_anchor=(0.5, -0.25),\n",
    "          fancybox=True, shadow=True, ncol=5)\n",
    "\n",
    "## Write out the figure\n",
    "f.tight_layout()\n",
    "fout = \"./Figures/CombinedGSILFMPlot.png\" \n",
    "if fout != \"\":\n",
    "    plt.savefig(fout,dpi=300, bbox_inches='tight',facecolor='white', transparent=False )\n"
   ]
  },
  {
   "cell_type": "code",
   "execution_count": null,
   "metadata": {},
   "outputs": [],
   "source": [
    "###############################################################\n",
    "# Let's explore the green-up and smoothing period thresholds\n",
    "# Develop a recommended value for default GSI settings\n",
    "###############################################################"
   ]
  },
  {
   "cell_type": "code",
   "execution_count": null,
   "metadata": {},
   "outputs": [],
   "source": [
    "if SIM:\n",
    "    # Test the default Green-up threshold \n",
    "    corrs = []\n",
    "    DayRange = np.arange(7,100,7,dtype='int')\n",
    "    for i in DayRange:\n",
    "        print('Days: ', i)\n",
    "        for j in range(0,10):\n",
    "            GU = j / 10\n",
    "            Days = int(i)\n",
    "            #defParams = [-2, 5, 900, 4100, 36000, 39600, 0, 0.393701, Days,GU,Days]\n",
    "            \n",
    "            MM_UT_BroTec = GetMetMerge(Met421501, UT_BroTec,defParams,UseLFMMinMax=False,Lat=Lat421501, Herb=True)\n",
    "            MM_UT_ArtTri = GetMetMerge(Met421501, UT_ArtTri,defParams,UseLFMMinMax=False,Lat=Lat421501)\n",
    "            MM_CA_AdeFas = GetMetMerge(Met045433,CA_Chamise,defParams,UseLFMMinMax=False,Lat=Lat045433)\n",
    "            \n",
    "            MM_GSIDef = pd.concat([MM_UT_BroTec,MM_UT_ArtTri,MM_CA_AdeFas])\n",
    "            MM_GSIDef = MM_GSIDef.drop(columns=['GACC','State','Group','Site','Date','Fuel','Unnamed: 7','DateTime',\n",
    "                                                'DATE','Tmin','MaxT','MnRH','MxRH','VPDMax','VPDA','Prcp',\n",
    "                                                'RunSumPrcp','MinTC','Dayl','JDay','GSI_PE_RS',\n",
    "                                               'TminInd','VPDInd','DaylInd','PrcpInd','FMW','FMH'])\n",
    "            # Append the correlation to the list\n",
    "            corrs.append(MM_GSIDef.corr(method='spearman')['Percent'][1])\n"
   ]
  },
  {
   "cell_type": "code",
   "execution_count": null,
   "metadata": {},
   "outputs": [],
   "source": [
    "if SIM:\n",
    "    arr = np.array(corrs)\n",
    "    # Use around() to round the array\n",
    "    rounded_corrs = np.around(arr,decimals=3)    \n",
    "else:\n",
    "    rounded_corrs = [0.552, 0.543, 0.5  , 0.48 , 0.466, 0.424, 0.394, 0.333, 0.293, 0.276, 0.691, 0.669, 0.646, 0.624, 0.571, 0.525, 0.435, 0.368,\n",
    "       0.314, 0.292, 0.766, 0.765, 0.753, 0.724, 0.694, 0.604, 0.511, 0.412, 0.332, 0.299, 0.786, 0.791, 0.808, 0.779, 0.756, 0.719,\n",
    "       0.606, 0.538, 0.335, 0.291, 0.771, 0.778, 0.802, 0.793, 0.785, 0.731, 0.606, 0.549, 0.436, 0.297, 0.755, 0.773, 0.795, 0.784,\n",
    "       0.796, 0.796, 0.696, 0.55 , 0.526, 0.317, 0.722, 0.744, 0.763, 0.768, 0.768, 0.765, 0.737, 0.538, 0.489, 0.338, 0.697, 0.726,\n",
    "       0.747, 0.749, 0.756, 0.767, 0.732, 0.576, 0.471, 0.339, 0.66 , 0.696, 0.708, 0.727, 0.728, 0.73 , 0.704, 0.571, 0.42 , 0.298,\n",
    "       0.613, 0.639, 0.656, 0.674, 0.682, 0.682, 0.66 , 0.502, 0.389, 0.3  , 0.568, 0.592, 0.611, 0.631, 0.639, 0.642, 0.626, 0.491,\n",
    "       0.393, 0.329, 0.517, 0.535, 0.556, 0.576, 0.602, 0.603, 0.565, 0.488, 0.41 , 0.332, 0.461, 0.478, 0.498, 0.516, 0.543, 0.549,\n",
    "       0.516, 0.472, 0.377, 0.332, 0.4  , 0.419, 0.438, 0.46 , 0.489, 0.508, 0.459, 0.471, 0.408, 0.343]"
   ]
  },
  {
   "cell_type": "code",
   "execution_count": null,
   "metadata": {},
   "outputs": [],
   "source": [
    "X = np.arange(0, 1, 0.1)\n",
    "Y = np.arange(7,100,7,dtype='int')\n",
    "corrs_new = np.array(rounded_corrs).reshape(len(Y), len(X))\n",
    "\n",
    "fig, ax = plt.subplots()\n",
    "CS = ax.contour(X, Y, corrs_new)\n",
    "ax.clabel(CS, inline=True, fontsize=10)\n",
    "ax.set_title('Default parameters correlation')\n",
    "ax.set_xlabel(\"Green-up Threshold (dim)\")\n",
    "ax.set_ylabel(\"Smoothing Period (days)\")"
   ]
  },
  {
   "cell_type": "code",
   "execution_count": null,
   "metadata": {},
   "outputs": [],
   "source": [
    "\n",
    "\n",
    "MM_UT_BroTec = GetMetMerge(Met421501, UT_BroTec,defParams,UseLFMMinMax=False,Lat=Lat421501, Herb=True)\n",
    "MM_UT_ArtTri = GetMetMerge(Met421501, UT_ArtTri,defParams,UseLFMMinMax=False,Lat=Lat421501)\n",
    "MM_CA_AdeFas = GetMetMerge(Met045433,CA_Chamise,defParams,UseLFMMinMax=False,Lat=Lat045433)\n",
    "\n",
    "MM_GSIDef = pd.concat([MM_UT_BroTec,MM_UT_ArtTri,MM_CA_AdeFas])\n",
    "MM_GSIDef = MM_GSIDef.drop(columns=['GACC','State','Group','Site','Date','Fuel','Unnamed: 7','DateTime',\n",
    "                                    'DATE','Tmin','MaxT','MnRH','MxRH','VPDMax','VPDA','Prcp',\n",
    "                                    'RunSumPrcp','MinTC','Dayl','JDay','GSI_PE_RS',\n",
    "                                   'TminInd','VPDInd','DaylInd','PrcpInd','FMW','FMH'])\n",
    "# Append the correlation to the list\n",
    "MM_GSIDef.corr(method='spearman')['Percent'][1]"
   ]
  },
  {
   "cell_type": "code",
   "execution_count": null,
   "metadata": {},
   "outputs": [],
   "source": [
    "# Fix the first comparions against V2 LFMC's\n",
    "MM_UT_BroTec['FM'] = MM_UT_BroTec['FMH']\n",
    "MM_UT_ArtTri['FM'] = MM_UT_BroTec['FMW']\n",
    "MM_CA_AdeFas['FM'] = MM_CA_AdeFas['FMW']\n",
    "\n",
    "MM_GSIDef = pd.concat([MM_UT_BroTec,MM_UT_ArtTri,MM_CA_AdeFas])\n",
    "MM_GSIDef = MM_GSIDef.drop(columns=['GACC','State','Group','Site','Date','Fuel','Unnamed: 7','DateTime',\n",
    "                                    'DATE','Tmin','MaxT','MnRH','MxRH','VPDMax','VPDA','Prcp',\n",
    "                                    'RunSumPrcp','MinTC','Dayl','JDay','GSI_PE_RS',\n",
    "                                   'TminInd','VPDInd','DaylInd','PrcpInd','FMW','FMH'])\n",
    "\n",
    "MM_UT_BroTecOpt['FM'] = MM_UT_BroTecOpt['FMH']\n",
    "MM_UT_ArtTriOpt['FM'] = MM_UT_BroTecOpt['FMW']\n",
    "MM_CA_AdeFasOpt['FM'] = MM_CA_AdeFasOpt['FMW']\n",
    "MM_GSIOpt= pd.concat([MM_UT_BroTecOpt,MM_UT_ArtTriOpt,MM_CA_AdeFasOpt])\n",
    "MM_GSIOpt = MM_GSIOpt.drop(columns=['GACC','State','Group','Site','Date','Fuel','Unnamed: 7','DateTime',\n",
    "                                    'DATE','Tmin','MaxT','MnRH','MxRH','VPDMax','VPDA','Prcp',\n",
    "                                    'RunSumPrcp','MinTC','Dayl','JDay','GSI_PE_RS',\n",
    "                                   'TminInd','VPDInd','DaylInd','PrcpInd','FMW','FMH'])\n"
   ]
  },
  {
   "cell_type": "code",
   "execution_count": null,
   "metadata": {},
   "outputs": [],
   "source": [
    "## Note: Need to correct these so that BroTec is being compared to FMH and not FMW"
   ]
  },
  {
   "cell_type": "code",
   "execution_count": null,
   "metadata": {},
   "outputs": [],
   "source": [
    "# Pooled correlation for all three species using default parameters\n",
    "MM_GSIDef.corr(method='spearman')"
   ]
  },
  {
   "cell_type": "code",
   "execution_count": null,
   "metadata": {},
   "outputs": [],
   "source": [
    "MM_GSIOpt.corr(method='spearman')"
   ]
  },
  {
   "cell_type": "code",
   "execution_count": null,
   "metadata": {},
   "outputs": [],
   "source": [
    "f,ax = plt.subplots(3,1,figsize=(5,12))\n",
    "MM_UT_BroTec.plot.scatter(x='Percent',y='FMH',ax=ax[0],label=\"BroTec\",marker=mkr_nf1,color=clr_nf1,edgecolor=clr_edg_nf)\n",
    "MM_UT_ArtTri.plot.scatter(x='Percent',y='FMW',ax=ax[0],label=\"ArtTri\",marker=mkr_nf2,color=clr_nf2,edgecolor=clr_edg_nf)\n",
    "MM_CA_AdeFas.plot.scatter(x='Percent',y='FMW',ax=ax[0],label=\"AdeFas\",marker=mkr_nf3,color=clr_nf3,edgecolor=clr_edg_nf)\n",
    "ax[0].plot([0,250],[0,250],color='black')\n",
    "ax[0].legend(loc='upper left')\n",
    "ax[0].set_xlabel(\"\")\n",
    "ax[0].set_ylabel(\"Modeled LFMC (% dry wt)\")\n",
    "ax[0].set_title('NFDRS Version 2 LFMC Model')\n",
    "\n",
    "MM_UT_BroTec.plot.scatter(x='Percent',y='LFMC',ax=ax[1],marker=mkr_nf1,color=clr_nf1,edgecolor=clr_edg_nf)\n",
    "MM_UT_ArtTri.plot.scatter(x='Percent',y='LFMC',ax=ax[1],marker=mkr_nf2,color=clr_nf2,edgecolor=clr_edg_nf)\n",
    "MM_CA_AdeFas.plot.scatter(x='Percent',y='LFMC',ax=ax[1],marker=mkr_nf3,color=clr_nf3,edgecolor=clr_edg_nf)\n",
    "ax[1].plot([0,250],[0,250],color='black')\n",
    "#ax[1].legend(loc='lower left',bbox_to_anchor=(1.0, 1.0))\n",
    "ax[1].set_xlabel(\"\")\n",
    "ax[1].set_ylabel(\"Modeled LFMC (% dry wt)\")\n",
    "ax[1].set_title('NFDRS Version 4 Default GSI Parameters')\n",
    "\n",
    "MM_UT_BroTecOpt.plot.scatter(x='Percent',y='LFMC',ax=ax[2],marker=mkr_nf1,color=clr_nf1,edgecolor=clr_edg_nf)\n",
    "MM_UT_ArtTriOpt.plot.scatter(x='Percent',y='LFMC',ax=ax[2],marker=mkr_nf2,color=clr_nf2,edgecolor=clr_edg_nf)\n",
    "MM_CA_AdeFasOpt.plot.scatter(x='Percent',y='LFMC',ax=ax[2],marker=mkr_nf3,color=clr_nf3,edgecolor=clr_edg_nf)\n",
    "ax[2].plot([0,250],[0,250],color='black')\n",
    "#ax[1].legend(loc='lower left',bbox_to_anchor=(1.0, 1.0))\n",
    "ax[2].set_xlabel(\"Measured LFMC (% dry wt)\")\n",
    "ax[2].set_ylabel(\"Modeled LFMC (% dry wt)\")\n",
    "ax[2].set_title('NFDRS Version 4 Grid-Search Optimized GSI Parameters')\n",
    "\n",
    "plt.tight_layout()\n",
    "fout = './Figures/FuelMoistureComparisons_3Grid.png'\n",
    "if fout != \"\":\n",
    "    plt.savefig(fout,dpi=300, bbox_inches='tight',facecolor='white', transparent=False )\n"
   ]
  },
  {
   "cell_type": "code",
   "execution_count": null,
   "metadata": {},
   "outputs": [],
   "source": [
    "Met421501RunSumPrcp = Met421501.RunSumPrcp.dropna()\n",
    "Met045433RunSumPrcp = Met045433.RunSumPrcp.dropna()"
   ]
  },
  {
   "cell_type": "code",
   "execution_count": null,
   "metadata": {},
   "outputs": [],
   "source": [
    "# Calculate the cumulative proportion of the data that falls below each value\n",
    "cumulative = np.linspace(0, 1, len(Met421501RunSumPrcp))\n",
    "cumulative2 = np.linspace(0, 1, len(Met045433RunSumPrcp))\n",
    "# Sort the data in ascending order\n",
    "sorted_data = np.sort(Met421501RunSumPrcp)\n",
    "sorted_data2 = np.sort(Met045433RunSumPrcp)\n",
    "\n",
    "# Calculate the cumulative proportion of the sorted data\n",
    "cumulative_data = np.cumsum(sorted_data) / np.sum(sorted_data)\n",
    "cumulative_data2 = np.cumsum(sorted_data2) / np.sum(sorted_data2)\n"
   ]
  },
  {
   "cell_type": "code",
   "execution_count": null,
   "metadata": {},
   "outputs": [],
   "source": [
    "# Plot the CDF\n",
    "plt.plot(sorted_data, cumulative_data)\n",
    "plt.plot(sorted_data2, cumulative_data2)\n",
    "# Add labels and title\n",
    "plt.xlabel(\"Running Total Precip (in)\")\n",
    "plt.ylabel(\"Cumulative Proportion\")\n",
    "plt.title(\"Cumulative Distribution Function (CDF) of Running Total Precip (in)\")"
   ]
  },
  {
   "cell_type": "code",
   "execution_count": null,
   "metadata": {},
   "outputs": [],
   "source": [
    "## Look up the percentiles of Cum Rainfall\n",
    "print(stats.percentileofscore(Met421501.RunSumPrcp.dropna(), 0.393701))\n",
    "print(stats.percentileofscore(Met421501.RunSumPrcp.dropna(), 1.1))\n",
    "print(stats.percentileofscore(Met045433.RunSumPrcp.dropna(), 0.393701))\n",
    "print(stats.percentileofscore(Met045433.RunSumPrcp.dropna(), 3.6))"
   ]
  },
  {
   "cell_type": "code",
   "execution_count": null,
   "metadata": {},
   "outputs": [],
   "source": [
    "print(stats.percentileofscore(Met421501.RunSumPrcp.dropna(), 1.1))"
   ]
  }
 ],
 "metadata": {
  "kernelspec": {
   "display_name": "Python 3 (ipykernel)",
   "language": "python",
   "name": "python3"
  },
  "language_info": {
   "codemirror_mode": {
    "name": "ipython",
    "version": 3
   },
   "file_extension": ".py",
   "mimetype": "text/x-python",
   "name": "python",
   "nbconvert_exporter": "python",
   "pygments_lexer": "ipython3",
   "version": "3.10.8"
  },
  "toc-autonumbering": true
 },
 "nbformat": 4,
 "nbformat_minor": 4
}
