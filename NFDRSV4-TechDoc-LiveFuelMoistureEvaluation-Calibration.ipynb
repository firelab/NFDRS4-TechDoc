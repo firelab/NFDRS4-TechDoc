{
 "cells": [
  {
   "cell_type": "markdown",
   "metadata": {},
   "source": [
    "# Documentation to support the publication: \"Modernizing the US National Fire Danger Rating System (Version 4): Simplified Fuel Models and Improved Live and Dead Fuel Moisture Calculations\""
   ]
  },
  {
   "cell_type": "markdown",
   "metadata": {},
   "source": [
    "## Purpose: Evaluate the Growing Season Index-based Live Fuel Moisture Model used in NFDRS Version 4.0 and show a simple method for calibrating the model used field measurements of LFMC."
   ]
  },
  {
   "cell_type": "markdown",
   "metadata": {},
   "source": [
    "### Original Notebook edited to add three more LFMC sites for comparison as per reviewer recommendations. (WMJ, 25 July 2024)"
   ]
  },
  {
   "cell_type": "markdown",
   "metadata": {},
   "source": [
    "<font size=5>NFDRSV4-TechDoc-LiveFuelMoistureEvaluation-Calibration.ipynb</font><br>\n",
    "W. Matt Jolly, PhD, william.jolly@usda.gov<br>\n",
    "Patrick H. Freeborn, PhD,  patrick.h.freeborn@usda.gov<br>\n",
    "USDA Forest Service<br>\n",
    "RMRS Fire Sciences Laboratory<br>\n",
    "Fire, Fuel and Smoke Program<br>\n",
    "5775 Hwy 10 W<br>\n",
    "Missoula, MT 59808<br>\n"
   ]
  },
  {
   "cell_type": "code",
   "execution_count": 1,
   "metadata": {},
   "outputs": [],
   "source": [
    "import math, sys, os\n",
    "import numpy as np\n",
    "import pandas as pd\n",
    "import matplotlib as mpl\n",
    "from matplotlib import pyplot as plt\n",
    "from datetime import *\n",
    "from scipy.stats import spearmanr,stats,linregress\n",
    "from sklearn.metrics import mean_absolute_error,r2_score\n",
    "from pandas.plotting import register_matplotlib_converters\n",
    "import matplotlib.cm as cm\n",
    "register_matplotlib_converters()\n",
    "from matplotlib.dates import DateFormatter\n",
    "from src.NFDRSV4PubGraphicsOptions import *"
   ]
  },
  {
   "cell_type": "code",
   "execution_count": 2,
   "metadata": {},
   "outputs": [],
   "source": [
    "import warnings\n",
    "warnings.filterwarnings('ignore')\n",
    "pd.set_option('display.max_rows', 200)"
   ]
  },
  {
   "cell_type": "markdown",
   "metadata": {},
   "source": [
    "### Basic met functions, photoperiod and conversions"
   ]
  },
  {
   "cell_type": "code",
   "execution_count": 3,
   "metadata": {},
   "outputs": [],
   "source": [
    "## fToC Converts Fahrenheit to Celcius\n",
    "## Inputs: f: Temperature in deg F\n",
    "## Returns: c: Temperature in deg C\n",
    "def fToc(f):\n",
    "    return (f -32) * 5/9\n",
    "\n",
    "## cTof Converts Celcius to Fahrenheit\n",
    "## Inputs: c: Temperature in deg C\n",
    "## Returns: f: Temperature in deg F\n",
    "def cTof(c):\n",
    "    return (c * 9/5) + 32\n",
    "INC = 0\t#GSI Function Types, Increasing (Tmin, Dayl)\n",
    "DEC = 1 #GSI Function Types, Decreasing (VPD)\n",
    "MM_2_IN = 0.0393701  # Conversion factor from mm to inches\n",
    "KPH_2_MPH = 0.621371 # Conversion factor from KPH to MPH\n",
    "\n",
    "## Calculate the Photoperiod/Daylength from latitude and day of year (yearday)\n",
    "## Inputs: lat: Latitude in Degrees (90 to -90)\n",
    "##         yday: Yearday (1-366)\n",
    "def CalcDayl(lat,yday):\n",
    "    RADPERDAY = 0.017214\n",
    "    RADPERDEG = 0.01745329\n",
    "    MINDECL = -0.4092797\n",
    "    SECPERRAD = 13750.9871\n",
    "    DAYSOFF = 10.25\n",
    "    # Daylength function from MT-CLIM */\n",
    "    lat = lat * RADPERDEG\n",
    "    if lat > 1.5707:\n",
    "        lat = 1.5707\n",
    "    if lat < -1.5707:\n",
    "        lat = -1.5707\n",
    "    coslat = math.cos(lat)\n",
    "    sinlat = math.sin(lat)\n",
    "\n",
    "    #* calculate cos and sin of declination */\n",
    "    decl = MINDECL * math.cos((yday + DAYSOFF) * RADPERDAY)\n",
    "    cosdecl = math.cos(decl)\n",
    "    sindecl = math.sin(decl)\n",
    "    cosegeom = coslat * cosdecl\n",
    "    sinegeom = sinlat * sindecl\n",
    "    coshss = -(sinegeom) / cosegeom\n",
    "    if coshss < -1.0:\n",
    "        coshss = -1.0  # 24-hr daylight */\n",
    "    if coshss > 1.0:\n",
    "        coshss = 1.0    # 0-hr daylight */\n",
    "    hss = math.acos(coshss)                # hour angle at sunset (radians) */\n",
    "    #* daylength (seconds) */\n",
    "    return 2.0 * hss * SECPERRAD\n",
    "\n",
    "# Function to calculate the Saturation Vapor Pressure for a given temperature.\n",
    "# Note: Function converts internally from F to C.\n",
    "# Input: tempF: Temperature in Deg F\n",
    "# Return: Saturation Vapor Pressure (Pa)\n",
    "def CalcVP(tempF):\n",
    "    tmpC =  (tempF - 32.0) / 1.8\n",
    "    vp = 610.7 * math.exp((17.38 * tmpC)/(239 + tmpC))\n",
    "    return vp\n",
    "\n",
    "# Calculate the VPD from RH and temperature\n",
    "# Inputs: RH: Relative Humidity in Percent (1-100)\n",
    "#         TempF: Temperature in Deg F\n",
    "# Return: Vapor Pressure Deficit (Pa)\n",
    "def CalcVPD(RH, TempF):\n",
    "    vp = CalcVP(TempF)\n",
    "    vpd = vp - (RH / 100) * vp\n",
    "    if(vpd < 0.0):\n",
    "        vpd = 0.0;\n",
    "    return vpd\n",
    "\n"
   ]
  },
  {
   "cell_type": "markdown",
   "metadata": {},
   "source": [
    "# GSI Functions"
   ]
  },
  {
   "cell_type": "code",
   "execution_count": 4,
   "metadata": {},
   "outputs": [],
   "source": [
    "# A class to contains all of the parameters used to derived GSI.  This makes it easier to iterate through parameter spaces for\n",
    "# for optimization\n",
    "class GSILimits:\n",
    "    TminLow = -2       # Lower limit for minimum temperature (C)\n",
    "    TminUp = 5         # Upper limit for minimum temperature (C)\n",
    "    DaylLow = 36000    # Lower limit for daylength (seconds)\n",
    "    DaylUp = 39600     # Upper limit for daylength (seconds)\n",
    "    VPDLow = 900       # Lower limit for VPD (pascals)\n",
    "    VPDUp = 4100       # Upper limit for VPD (pascals)\n",
    "    PrcpRTLow = 0    # Lower limit for running total precip (inches)\n",
    "    PrcpRTUp = 0.393701  # Upper limit for running total precip (inches)... defaults to 10mm\n",
    "    PrcpRTPeriod = 28  # Running total period for precipitaiton (days)\n",
    "    GSIPeriod = 28     # Running average period for final GSI (days)\n",
    "    GUThresh = 0.2    # Green-up threshold (dim)\n",
    "    LFMMax = 200       # Maximum fuel moisture (% dry wt)\n",
    "    LFMMin = 60        # Minimum fuel moisture (% dry wt)\n",
    "    Lat = 45           # Station latitude (degrees)"
   ]
  },
  {
   "cell_type": "code",
   "execution_count": 5,
   "metadata": {},
   "outputs": [],
   "source": [
    "# Helper function to set the GSI Limits class values based on the list of calibrated parameters\n",
    "# gsilim: An instance of the GSILimits class\n",
    "# gsiparams: an 11 element list of GSI parameters\n",
    "# LFMMin: minimum live fuel moisture limit for model\n",
    "# LFMMax: maximum live fuel moisture limit for model\n",
    "# Lat: Latitude of the estimatation location (used in photoperiod calculations)\n",
    "def SetGSILimits(gsilim,gsiparams,LFMMin,LFMMax, Lat):\n",
    "    gsilim.TminLow = gsiparams[0] \n",
    "    gsilim.TminUp = gsiparams[1]\n",
    "    gsilim.VPDLow = gsiparams[2]\n",
    "    gsilim.VPDUp = gsiparams[3]\n",
    "    gsilim.DaylLow = gsiparams[4]\n",
    "    gsilim.DaylUp = gsiparams[5]\n",
    "    gsilim.PrcpRTLow = gsiparams[6]\n",
    "    gsilim.PrcpRTUp = gsiparams[7]\n",
    "    gsilim.GSIPeriod = gsiparams[8]\n",
    "    gsilim.GUThresh = gsiparams[9]\n",
    "    gsilim.PrcpRTPeriod = gsiparams[10]\n",
    "    gsilim.LFMMin = LFMMin\n",
    "    gsilim.LFMMax = LFMMax\n",
    "    gsilim.Lat = Lat\n",
    "    return gsilim"
   ]
  },
  {
   "cell_type": "markdown",
   "metadata": {},
   "source": [
    "## Ramp function for GSI calculations"
   ]
  },
  {
   "cell_type": "code",
   "execution_count": 6,
   "metadata": {},
   "outputs": [],
   "source": [
    "# GSI indicator/ramp function\n",
    "def Ind(Var,Low,Up):\n",
    "    # Make sure all the input variables are numbers\n",
    "    Var = float(Var)\n",
    "    Low = float(Low)\n",
    "    Up = float(Up)\n",
    "    if(Up == Low):  # Upper (Up) and Lower (Low) can't be the same\n",
    "        return 0\n",
    "    if( Var < Low):  # If the variables is less than the lower limit, return 0\n",
    "        return 0\n",
    "    elif(Var > Up):  # If the variables is greater than the upper limit, return 1\n",
    "        return 1\n",
    "    else:            # If the variables is between the lower and upper limits, return the proportion\n",
    "        return (Var - Low) / (Up - Low)"
   ]
  },
  {
   "cell_type": "markdown",
   "metadata": {},
   "source": [
    "## Transform GSI to LFMC"
   ]
  },
  {
   "cell_type": "markdown",
   "metadata": {},
   "source": [
    "### GSI is scaled to LFMC using a simple linear transform above a threshold value.  The min and max LFMC values are fuel type specific and are carried over from previous versions of the USNFDRS."
   ]
  },
  {
   "cell_type": "code",
   "execution_count": 7,
   "metadata": {},
   "outputs": [],
   "source": [
    "## Function to transform GSI to LFMC\n",
    "def CalcLFMFromGSI(gsi,GUThresh,LFMMin,LFMMax):\n",
    "    m = (LFMMax - LFMMin) / (1 - GUThresh)\n",
    "    b = LFMMax - m\n",
    "    # Scale GSI between min and max LFMC if gsi is above the green-up threshold\n",
    "    if(gsi >= GUThresh):\n",
    "        LFM = m*gsi + b\n",
    "    # Below the Green-up Threshold, set the value to minimum LFM\n",
    "    else:\n",
    "        LFM = LFMMin\n",
    "    return(LFM)"
   ]
  },
  {
   "cell_type": "markdown",
   "metadata": {},
   "source": [
    "## Function to calculate the Growing Season Index"
   ]
  },
  {
   "cell_type": "code",
   "execution_count": 8,
   "metadata": {},
   "outputs": [],
   "source": [
    "# Function to calculate GSI, Scaled GSI and Live Fuel Moisture on a DataFrame\n",
    "# df: Pandas DataFrame of daily weather data\n",
    "# assumes the following labeled columns: \"Tmin: minimum temperature (deg F), VPDMax: Max daily VPD (Pa)\n",
    "#                                          and Prcp: 24 hour total precipitation (Inches)\"\n",
    "# gsilim: An instance of the GSILimits class \n",
    "# PLowLim and PUpperLim: Date range for model predictions\n",
    "\n",
    "def CalcGSI(df,gsilim,PLowLim='2014-01-01',PUpperLim = '2020-12-31'):\n",
    "    # Filter the dataset for the period of interest (5 year period by default but can be adjusted with PLowLim and PUpperLim)\n",
    "    df = df[(df['DateTime'] > PLowLim) & (df['DateTime'] <= PUpperLim)].copy()\n",
    "    # Compute and store the day of the year for use in calculating Daylength\n",
    "    df['JDay'] = df.DateTime.dt.dayofyear\n",
    "    \n",
    "    # Minimum Temperature\n",
    "    df['TminC'] =  (df.Tmin - 32.0) * 5.0 / 9.0; # Convert Tmin from Fahrenheit to celcuius\n",
    "    df['TminInd'] = df.apply(lambda row: Ind(row['TminC'],gsilim.TminLow,gsilim.TminUp),axis=1)\n",
    "    # Vapor Pressure Deficit\n",
    "    df['VPDInd']= df.apply(lambda row: 1 - Ind(row['VPDMax'],gsilim.VPDLow,gsilim.VPDUp),axis=1)\n",
    "    # Photoperiod / Daylength\n",
    "    # First, calculate the Daylength for each observation day (this uses site latitude and julian day)\n",
    "    df['Dayl'] = df.apply(lambda row: CalcDayl(gsilim.Lat,row['JDay']),axis=1)  \n",
    "    df['DaylInd']= df.apply(lambda row: Ind(row['Dayl'],gsilim.DaylLow,gsilim.DaylUp),axis=1)\n",
    "    # Running Total Precipitation\n",
    "    df['Prcp_RT'] = df['Prcp'].rolling(gsilim.PrcpRTPeriod).sum()\n",
    "    df['PrcpInd'] = df.apply(lambda row: Ind(row['Prcp_RT'],gsilim.PrcpRTLow,gsilim.PrcpRTUp),axis=1)\n",
    "\n",
    "    #################################################################                  \n",
    "    # Daily GSI for four ramp model\n",
    "    df['iGSI_PE'] = df['TminInd'] * df['VPDInd'] * df['DaylInd'] * df['PrcpInd']\n",
    "    # Smoothed GSI (running average over the GSIPeriod)\n",
    "    df['GSI_PE'] = df['iGSI_PE'].rolling(gsilim.GSIPeriod).mean()\n",
    "    # Rescale the final GSI time series\n",
    "    df['GSI_PE_RS'] = df['GSI_PE']/ df['GSI_PE'].quantile(1)\n",
    "\n",
    "    # Calculate LFMC from Rescaled GSI\n",
    "    df['LFMC'] = df.apply(lambda row: CalcLFMFromGSI(row['GSI_PE_RS'],gsilim.GUThresh,gsilim.LFMMin, gsilim.LFMMax),axis=1)\n",
    "    return df\n"
   ]
  },
  {
   "cell_type": "markdown",
   "metadata": {},
   "source": [
    "## Function to calculate and compare GSI using weather obs, measured LFMC and a set of GSI-LFM parameters"
   ]
  },
  {
   "cell_type": "code",
   "execution_count": 9,
   "metadata": {},
   "outputs": [],
   "source": [
    "# Function to provide a bounded list of lower and upper values that ensures \n",
    "# that min is always less than max\n",
    "# To be used in a Grid Search Optimization for GSI parameters\n",
    "def MakeParamRange(minValue,maxValue,interv):\n",
    "    lower = []\n",
    "    upper = []\n",
    "    for x in range(minValue,maxValue+1,interv): \n",
    "        for y in range(minValue,maxValue+1,interv):\n",
    "            if(x < y):\n",
    "                #print(paste(x,y))\n",
    "                lower.append(x)\n",
    "                upper.append(y)\n",
    "    d = {'Lower': lower, 'Upper': upper}\n",
    "    df = pd.DataFrame(data=d)\n",
    "    return(df)\n",
    "    "
   ]
  },
  {
   "cell_type": "code",
   "execution_count": 10,
   "metadata": {},
   "outputs": [],
   "source": [
    "# Produce a table entry comparing 78 and GSI/GSIp LFM to Observations\n",
    "def MakeGSILFMCompareTable4Param(Temp,LFMObs,BestParams,label=\"\",UseLFMMinMax = True,Herb=True,Lat=45,PLowLim='2015-01-01',PUpperLim='2019-12-31'):\n",
    "    #PLowLim='2015-01-01'\n",
    "    #PUpperLim = '2019-12-31'\n",
    "    \n",
    "    # Label the DataFrame columns so they match the GSI function\n",
    "    Temp = Temp.rename(columns={\"MinT\": \"Tmin\", \"VPDM\": \"VPDMax\", \"Rain\":\"Prcp\"})\n",
    "    # Lookup the appropriate live fuel moisture ranges\n",
    "    LFMMin,LFMMax = GetLFMRange(LFMObs,UseLFMMinMax,Herb)\n",
    "\n",
    "    # Create the GSILimits structure as a default and then overwrite the variables we need to change\n",
    "    gsilim = GSILimits\n",
    "    newgsilim = SetGSILimits(gsilim,BestParams,LFMMin,LFMMax,Lat)\n",
    "    \n",
    "    # Calculate the GSI\n",
    "    t = CalcGSI(Temp,newgsilim,PLowLim,PUpperLim)\n",
    "    \n",
    "    # Assign the components back to the dataframe\n",
    "    Temp['GSI_PE_RS'] = t['GSI_PE_RS']\n",
    "    Temp['LFMC'] = t['LFMC']  \n",
    "    Temp['TminInd'] = t['TminInd']\n",
    "    Temp['VPDInd'] = t['VPDInd']\n",
    "    Temp['DaylInd'] = t['DaylInd']\n",
    "    Temp['PrcpInd'] = t['PrcpInd']\n",
    "    \n",
    "    # Merge the GSI and LFM obs dataframes\n",
    "    MetLFMMerge = LFMObs.merge(Temp, left_on='DateTime', right_on='DateTime', suffixes=(False, False))\n",
    "   \n",
    "    # Trim the dataset to the analysis date range\n",
    "    MetLFMMerge = MetLFMMerge[(MetLFMMerge['DateTime'] > PLowLim) & (MetLFMMerge['DateTime'] <= PUpperLim)]\n",
    "    \n",
    "    # Compare the GSI-LFMC (NFDRS-V4) to measured LFMC\n",
    "    s2,p2 = spearmanr(MetLFMMerge['Percent'],MetLFMMerge['LFMC'],nan_policy=\"omit\")\n",
    "    mae2 = mean_absolute_error(MetLFMMerge['Percent'], MetLFMMerge['LFMC'])\n",
    "    slope, intercept, r_value, p_value_def, std_err = linregress(MetLFMMerge['Percent'],MetLFMMerge['LFMC'])\n",
    "    r2 = r_value**2                                        \n",
    "    print(r2)\n",
    "    # Compare the old LFMC (NFDRS V2) to measure LFMC\n",
    "    if Herb:\n",
    "        s3,p3 = spearmanr(MetLFMMerge['Percent'],MetLFMMerge['FMH'])\n",
    "        slope, intercept, r_value, p_value_def, std_err = linregress(MetLFMMerge['Percent'],MetLFMMerge['FMH'])\n",
    "        r3 = r_value**2\n",
    "        mae3 = mean_absolute_error(MetLFMMerge['Percent'], MetLFMMerge['FMH'])\n",
    "    else:\n",
    "        s3,p3 = spearmanr(MetLFMMerge['Percent'],MetLFMMerge['FMW'])\n",
    "        slope, intercept, r_value, p_value_def, std_err = linregress(MetLFMMerge['Percent'],MetLFMMerge['FMW'])\n",
    "        r3 = r_value**2\n",
    "        mae3 = mean_absolute_error(MetLFMMerge['Percent'], MetLFMMerge['FMW'])\n",
    "    \n",
    "    return([label,round(s2,3),round(p2,3),round(mae2,3),round(r2,3),round(s3,3),round(p3,3),round(mae3,3),round(r3,3),len(MetLFMMerge['Percent'])])"
   ]
  },
  {
   "cell_type": "markdown",
   "metadata": {},
   "source": [
    "## Function to perform a Grid Search Optimization of the GSI by best fit to field measurements"
   ]
  },
  {
   "cell_type": "code",
   "execution_count": 11,
   "metadata": {},
   "outputs": [],
   "source": [
    "def GridSearchOptimizeGSILFM(Temp,LFMDat,label,maxSim = 2,mySeed = 123456,UseLFMMinMax = False,Herb=True,PInt = 20,PLowLim='2015-01-01',PUpperLim='2019-12-31',Lat=45):\n",
    "    DEBUG = False\n",
    "      \n",
    "    # Create a range of smoothing / running precip period length ranges intervals\n",
    "    smint = range(21,60,7)\n",
    "    dfsmint = pd.DataFrame(data={'SMInt': smint})\n",
    "    \n",
    "    #### Get a Random Set of Parameters\n",
    "    # Make the VPD ranges\n",
    "    iVPDP = MakeParamRange(500, 9000, 500)  # VPD ranges from 500 to 9000 Pascals\n",
    "    # Make the Temperature ranges\n",
    "    iTMinP = MakeParamRange(-5, 10,1)  # MinT ranges from -5 to 10 deg C\n",
    "    # Make the Daylength Ranges\n",
    "    iDaylP = MakeParamRange(32400,46800,3600)  # Dayl ranges from 9 to 13 hours\n",
    "    # Make the Prcp ranges\n",
    "    iPrcpP = MakeParamRange(0,50,1)\n",
    "    iPrcpP = (iPrcpP/10)  # Precip ranges from 0 to 5 inches\n",
    "\n",
    "    # Make the green-up threshold \n",
    "    iThreshP = []\n",
    "    for i in range(0,81,10):\n",
    "        iThreshP.append(float(i/100))\n",
    "    iThreshP = pd.DataFrame(data={'iThresh': iThreshP})    \n",
    "    \n",
    "    BestS = 0\n",
    "    BestParams = []\n",
    "    \n",
    "    for i in range(0,maxSim):\n",
    "        \n",
    "        rs = dfsmint.sample(n=1,random_state=mySeed+i)\n",
    "        smint = rs.iloc[0].SMInt.astype(int)\n",
    "        \n",
    "        # VPD Params\n",
    "        rs = iVPDP.sample(n=1,random_state=mySeed+i)\n",
    "        iVPDMin = rs.iloc[0].Lower\n",
    "        iVPDMax = rs.iloc[0].Upper\n",
    "        \n",
    "        # TMin Params\n",
    "        rs = iTMinP.sample(n=1,random_state=mySeed+i)\n",
    "        iTminMin = rs.iloc[0].Lower\n",
    "        iTminMax = rs.iloc[0].Upper\n",
    "\n",
    "        # Daylength Params\n",
    "        rs = iDaylP.sample(n=1,random_state=mySeed+i)\n",
    "        iDaylMin = rs.iloc[0].Lower\n",
    "        iDaylMax = rs.iloc[0].Upper\n",
    "\n",
    "        # RT Precip Params\n",
    "        rs = iPrcpP.sample(n=1,random_state=mySeed+i)\n",
    "        iPrcpMin = rs.iloc[0].Lower\n",
    "        iPrcpMax = rs.iloc[0].Upper\n",
    "\n",
    "        # Greenup Threshold \n",
    "        rs = iThreshP.sample(n=1,random_state=mySeed+i)\n",
    "        iThreshVal = rs.iloc[0].iThresh.astype(float)\n",
    "        \n",
    "        Params = [iTminMin,iTminMax,iVPDMin,iVPDMax,iDaylMin,iDaylMax,iPrcpMin,iPrcpMax,smint,iThreshVal,smint]\n",
    "               \n",
    "        S =  MakeGSILFMCompareTable4Param(Temp,LFMDat,Params,label=label,UseLFMMinMax = UseLFMMinMax,Herb=Herb,PLowLim=PLowLim,PUpperLim=PUpperLim,Lat=Lat)\n",
    "        \n",
    "        if(S[1] > BestS):\n",
    "            BestS = S[1]\n",
    "            BestParams = Params\n",
    "           \n",
    "        if i % PInt == 0:\n",
    "            print(S,BestS,BestParams)\n",
    "    return(BestParams)\n",
    "       "
   ]
  },
  {
   "cell_type": "markdown",
   "metadata": {},
   "source": [
    "### Input file helper functions for observed LFMC and met data files"
   ]
  },
  {
   "cell_type": "code",
   "execution_count": 12,
   "metadata": {},
   "outputs": [],
   "source": [
    "# Helper function for reading the NFMD measured live fuel moisture data \n",
    "def ReadNFMDData(filename):\n",
    "        # Read in data\n",
    "        data = pd.read_csv(filename, sep='\\t')\n",
    "        data['DateTime']=pd.to_datetime(data['Date'].astype(str) + \" 13\", format='%Y-%m-%d %H')\n",
    "        return data \n",
    "\n",
    "# Helper function for reading the export files from the Fuel Moisture Repository\n",
    "def ReadFMRData(filename):\n",
    "        # Read in data\n",
    "        #colspecs = [(0, 8), (9, 13), (13, 25), (25, 53), (53, 65), (65, 73)]\n",
    "        data = pd.read_csv(filename)\n",
    "        data['DateTime']=pd.to_datetime(data['DATE'].astype(str) + \" 13\", format='%Y-%m-%d %H')\n",
    "        return data \n",
    "\n",
    "\n",
    "# Helper function for reading the NFMD measured live fuel moisture data \n",
    "def ReadNFMDData(filename):\n",
    "        # Read in data\n",
    "        colspecs = [(0, 8), (9, 13), (13, 25), (25, 53), (53, 65), (65, 73)]\n",
    "        data = pd.read_csv(filename, sep='\\t')\n",
    "        data['DateTime']=pd.to_datetime(data['Date'].astype(str) + \" 13\", format='%Y-%m-%d %H')\n",
    "        return data \n",
    "# Helper function to derive historical min and max LFMC value from a NFMD set of measurements\n",
    "def GetLFMRange(LFMObs,UseLFMMinMax,Herb):\n",
    "    # Set the default green-up threshold and min / max live fuel moisture\n",
    "    if not UseLFMMinMax:\n",
    "        if Herb:\n",
    "            LFMMin = 30\n",
    "            LFMMax = 250\n",
    "        else:\n",
    "            LFMMin = 60\n",
    "            LFMMax = 200\n",
    "    else:\n",
    "        LFMMin = LFMObs['Percent'].quantile(0.01).astype(int)\n",
    "        LFMMax = LFMObs['Percent'].quantile(0.99).astype(int)\n",
    "    return(LFMMin,LFMMax)\n",
    "\n",
    "# Helper function for reading the FireFamily+ weather data and formatting columns corrected for use as Pandas dataframes\n",
    "def GetMet(inFileName,Lat,delLast=False):\n",
    "    Met = pd.read_csv(inFileName)\n",
    "\n",
    "    Met.rename(columns=lambda x: x.strip(), inplace=True)\n",
    "    ind = len(Met.columns)\n",
    "    print(ind)\n",
    "    if delLast:\n",
    "        Met=Met.drop(Met.columns[[ind - 1]],axis=1)\n",
    "    Met['DateTime']=pd.to_datetime(Met['DATE'].astype(str) + \" 13\", format='%m/%d/%Y %H')\n",
    "    MaxRain = float(Met['Rain'].quantile([0.999]).values)\n",
    "    #print(MaxRain)\n",
    "    Met['Rain'].values[Met['Rain'] > MaxRain] = MaxRain\n",
    "    Met['RunSumPrcp'] = Met['Rain'].rolling(28).sum()\n",
    "    # Data Prep\n",
    "    Met['MinTC'] = fToc(Met['MinT'])\n",
    "    JDay = []\n",
    "    Dayl = []\n",
    "    for index, row in Met.iterrows():\n",
    "        jday = int(row.DateTime.strftime(format=\"%j\"))\n",
    "        JDay.append(jday)\n",
    "        dayl = CalcDayl(Lat,jday) \n",
    "        Dayl.append(dayl)\n",
    "    Met['Dayl'] = Dayl\n",
    "    Met['JDay'] = JDay\n",
    "    return Met"
   ]
  },
  {
   "cell_type": "markdown",
   "metadata": {},
   "source": [
    "### Simple GSI calc function that works on the "
   ]
  },
  {
   "cell_type": "code",
   "execution_count": 13,
   "metadata": {},
   "outputs": [],
   "source": [
    "def CalcGSIPandas(Temp,Params,LFMMin,LFMMax,Lat):\n",
    "    # Label the DataFrame columns so they match the GSI function\n",
    "    Temp = Temp.rename(columns={\"MinT\": \"Tmin\", \"VPDM\": \"VPDMax\", \"Rain\":\"Prcp\"})\n",
    "    gsilim = GSILimits\n",
    "    newgsilim = SetGSILimits(gsilim,Params,LFMMin,LFMMax,Lat)\n",
    "    \n",
    "    # Calculate the GSI\n",
    "    t = CalcGSI(Temp,newgsilim,PLowLim='2014-01-01',PUpperLim = '2024-12-31')\n",
    "\n",
    "    Temp['GSI_PE_RS'] = t['GSI_PE_RS']\n",
    "    Temp['LFMC'] = t['LFMC']  \n",
    "    Temp['TminInd'] = t['TminInd']\n",
    "    Temp['VPDInd'] = t['VPDInd']\n",
    "    Temp['DaylInd'] = t['DaylInd']\n",
    "    Temp['PrcpInd'] = t['PrcpInd']\n",
    "    \n",
    "    # Merge the GSI and LFM obs dataframes\n",
    "    #MetLFMMerge = LFMObs.merge(Temp, left_on='DateTime', right_on='DateTime', suffixes=(False, False))\n",
    "    return(Temp)"
   ]
  },
  {
   "cell_type": "code",
   "execution_count": 14,
   "metadata": {},
   "outputs": [],
   "source": [
    "def MakeGSILFMCompareNew(Temp,LFMObs,BestParams,UseLFMMinMax = True,PLowLim='2015-01-01',PUpperLim = '2019-12-31',UsePrcp=False,Lat=45,Herb=False):\n",
    "   \n",
    "    # Label the DataFrame columns so they match the GSI function\n",
    "    Temp = Temp.rename(columns={\"MinT\": \"Tmin\", \"VPDM\": \"VPDMax\", \"Rain\":\"Prcp\"}).copy()\n",
    "   \n",
    "    # Set the default green-up threshold and min / max live fuel moisture \n",
    "    LFMMin,LFMMax = GetLFMRange(LFMObs,UseLFMMinMax,Herb)\n",
    "    #print({\"UseLFMMinMax\":UseLFMMinMax,\"Herb\":Herb,\"LFMMin\":LFMMin,\"LFMMax\":LFMMax})\n",
    "    gsilim = GSILimits\n",
    "    newgsilim = SetGSILimits(gsilim,BestParams,LFMMin,LFMMax,Lat)\n",
    "    \n",
    "    # Calculate the GSI\n",
    "    t = CalcGSI(Temp,newgsilim,PLowLim=PLowLim,PUpperLim = PUpperLim)\n",
    "    Temp['GSI_PE_RS'] = t['GSI_PE_RS']\n",
    "    Temp['LFMC'] = t['LFMC']  \n",
    "    Temp['TminInd'] = t['TminInd']\n",
    "    Temp['VPDInd'] = t['VPDInd']\n",
    "    Temp['DaylInd'] = t['DaylInd']\n",
    "    Temp['PrcpInd'] = t['PrcpInd']\n",
    "    \n",
    "    # Merge and filter to limit date range\n",
    "    MetLFMMerge = LFMObs.merge(Temp, left_on='DateTime', right_on='DateTime', suffixes=(False, False))\n",
    "    MetLFMMerge = MetLFMMerge[(MetLFMMerge['DateTime'] > PLowLim) & (MetLFMMerge['DateTime'] <= PUpperLim)]\n",
    "        \n",
    "    if MetLFMMerge.LFMC.std() == 0:\n",
    "        s2 = [-999.9]\n",
    "        mae = 999.9\n",
    "    else:\n",
    "        s2,p2 = spearmanr(MetLFMMerge['Percent'],MetLFMMerge['LFMC']*100,nan_policy=\"omit\")\n",
    "        mae = mean_absolute_error(MetLFMMerge['Percent'], MetLFMMerge['LFMC'])\n",
    "\n",
    "    return([s2,mae,MetLFMMerge])\n",
    "\n",
    "def GetMetMerge(Met,LFMObs,BestParams,UseLFMMinMax,Lat=45,Herb=False,PLowLim='2015-01-01',PUpperLim = '2019-12-31'):\n",
    "    UsePrcp = True\n",
    "    LFMMin,LFMMax = GetLFMRange(LFMObs,UseLFMMinMax,Herb)\n",
    "    #print(LFMMin,LFMMax)\n",
    "    t = MakeGSILFMCompareNew(Met,LFMObs,BestParams,UseLFMMinMax,UsePrcp=UsePrcp,Lat=Lat,Herb=Herb,PLowLim=PLowLim,PUpperLim=PUpperLim)\n",
    "    return( t[2])\n",
    "    "
   ]
  },
  {
   "cell_type": "markdown",
   "metadata": {},
   "source": [
    "# Station-based analyses and local Grid Search Optimization "
   ]
  },
  {
   "cell_type": "markdown",
   "metadata": {},
   "source": [
    "## Load the surface weather observations from the RAWS stations"
   ]
  },
  {
   "cell_type": "code",
   "execution_count": 15,
   "metadata": {},
   "outputs": [
    {
     "name": "stdout",
     "output_type": "stream",
     "text": [
      "11\n",
      "11\n",
      "8\n",
      "8\n",
      "8\n"
     ]
    }
   ],
   "source": [
    "# Read in the weather data and format them into Pandas dataframes\n",
    "# Note: These data were created using FireFamily+ and they include the weather, Max VPD and the calculated NFDRS Version 2 live fuel moisture content\n",
    "\n",
    "Lat421501 = 39.58\n",
    "FName = r'./data/421501.csv'\n",
    "Met421501 = GetMet(FName,Lat421501,True)\n",
    "\n",
    "Lat045433 = 34.08\n",
    "FName = r'./data/045433.csv'\n",
    "Met045433 = GetMet(FName,Lat045433,True) \n",
    "Met045433 = Met045433.dropna()\n",
    "\n",
    "LatSSFS = 44\n",
    "FName = r'./data/SSFS.csv'\n",
    "MetSSFS = GetMet(FName,LatSSFS,True)\n",
    "MetSSFS = MetSSFS.drop('DATE',axis=1)\n",
    "\n",
    "#https://wrcc.dri.edu/cgi-bin/rawMAIN.pl?sdTLUF \n",
    "Lat413509 = 31.313\n",
    "FName = r'./data/413509.csv'\n",
    "Met413509 = GetMet(FName,Lat413509,True)\n",
    "Met413509 = Met413509.drop('DATE',axis=1)\n",
    "\n",
    "Lat101303 = 46.5\n",
    "FName = r'./data/101303.csv'\n",
    "Met101303 = GetMet(FName,Lat101303,True)\n",
    "Met101303 = Met101303.drop('DATE',axis=1)"
   ]
  },
  {
   "cell_type": "markdown",
   "metadata": {},
   "source": [
    "## Load the Live Fuel Moisture Content field measurements from either the National Fuel Moisture Database or the Fuel Moisture Repository Webportal"
   ]
  },
  {
   "cell_type": "code",
   "execution_count": 16,
   "metadata": {},
   "outputs": [],
   "source": [
    "# Read field-measured live fuel moisture values obtained from the US National Fuel Moisture Database\n",
    "# These files were exported from the National Fuel Moisture Database\n",
    "UT_ArtTri = ReadNFMDData(\"./data/EGBC_UT_FillmoreFieldOffice_SevierReservoir_SagebrushBasinBig_data.txt\")\n",
    "UT_BroTec = ReadNFMDData(\"./data/EGBC_UT_FillmoreFieldOffice_SevierReservoir_Cheatgrass_data.txt\")\n",
    "CA_AdeFas = ReadNFMDData(\"./data/SOCC_CA_LACounty_LaurelCanyon,Mt.Olympus_data.txt\")"
   ]
  },
  {
   "cell_type": "code",
   "execution_count": 17,
   "metadata": {},
   "outputs": [],
   "source": [
    "# Additional sites added per peer review recommendation (WMJ, 25 July 2024)\n",
    "# Fuel Moisture Repository Webportal\n",
    "# https://nfmdb.org/?&target=_blank\n",
    "ID_PhyCap = ReadFMRData(\"./data/FMR_202407191615.csv\").rename(columns={'PERCENT':'Percent'})\n",
    "TX_IleVom = ReadFMRData(\"./data/FMR_202407221747.csv\").rename(columns={'PERCENT':'Percent'})\n",
    "SD_BroIne = ReadFMRData(\"./data/FMR_202407221751.csv\").rename(columns={'PERCENT':'Percent'})"
   ]
  },
  {
   "cell_type": "code",
   "execution_count": 18,
   "metadata": {},
   "outputs": [],
   "source": [
    "# GSI-LFMC default parameters\n",
    "GU = 0.2\n",
    "Days = 28\n",
    "defParams = [-2, 5, 900, 4100, 36000, 39600, 0.394, 0.787, Days,GU,Days]"
   ]
  },
  {
   "cell_type": "code",
   "execution_count": 19,
   "metadata": {},
   "outputs": [],
   "source": [
    "## Max number of simulations for Grid Search Optimizations\n",
    "maxSims = 10000\n",
    "## Random seed number to ensure results are random but repeatable\n",
    "mySeed = 123456"
   ]
  },
  {
   "cell_type": "markdown",
   "metadata": {},
   "source": [
    "These simulations have already been run and the results saved below. Using the mySeed parameter, they are randomly sampled but repeatable, so enabling SIM would re-run the Grid Search Optimization for each of the three species but should yield the same final parameter set."
   ]
  },
  {
   "cell_type": "code",
   "execution_count": 20,
   "metadata": {},
   "outputs": [],
   "source": [
    "SIM = False\n",
    "if SIM:\n",
    "    results_brotec = GridSearchOptimizeGSILFM(Met421501,UT_BroTec,\"UT_BroTec\",maxSim = maxSims,mySeed=mySeed,UseLFMMinMax = True,Herb=True,Lat=421501)\n",
    "    results_arttri = GridSearchOptimizeGSILFM(Met421501,UT_ArtTri,\"UT_ArtTri\",maxSim = maxSims,mySeed=mySeed,UseLFMMinMax = True,Herb=False,Lat=421501)\n",
    "    results_adefas = GridSearchOptimizeGSILFM(Met045433,CA_AdeFas,\"CA_AdeFas\",maxSim = maxSims,mySeed=mySeed,UseLFMMinMax = True,Herb=False,Lat=Lat045433)\n",
    "    results_ilevom = GridSearchOptimizeGSILFM(Met413509,TX_IleVom,\"TX_IleVom\",maxSim = maxSims,mySeed=mySeed,UseLFMMinMax = True,Herb=False,PLowLim='2020-01-01',PUpperLim='2022-12-31',Lat=Lat413509)\n",
    "    results_broine = GridSearchOptimizeGSILFM(MetSSFS,SD_BroIne,\"SD_BroIne\",maxSim = maxSims,mySeed=mySeed,UseLFMMinMax = True,Herb=True,PLowLim='2020-01-01',PUpperLim='2022-12-31',Lat=LatSSFS)\n",
    "    results_phycap = GridSearchOptimizeGSILFM(Met101303,ID_PhyCap,\"ID_PhyCap\",maxSim = maxSims,mySeed=mySeed,UseLFMMinMax = True,Herb=False,PLowLim='2019-01-01',PUpperLim='2023-12-31',Lat=Lat101303)\n",
    "else:\n",
    "    # Load the stored Grid Search Optimized parameter sets for each of the three species. These can be re-run by setting SIM to True in this cell\n",
    "    results_adefas = [0, 6, 500, 7000, 32400, 36000, 1.2, 4.8, 56, 0.0, 56]#[-4, 0, 2500, 4000, 32400, 36000, 1.5, 3.0, 55, 0.0, 55]\n",
    "    results_brotec = [-5, -2, 1000, 4000, 32400, 36000, 0.7, 1.0, 49, 0.0, 49]#[-4, -1, 2000, 5500, 32400, 43200, 0.2, 0.8, 50, 0.2, 50]\n",
    "    results_arttri = [-4, 0, 1000, 2500, 32400, 36000, 0.6, 4.3, 49, 0.0, 49]#[-5, -1, 2000, 4000, 32400, 43200, 0.1, 0.4, 59, 0.2, 59]\n",
    "    results_ilevom = [-3, 7, 1000, 6000, 39600, 43200, 1.2, 4.4, 49, 0.5, 49]#[-3, 1, 1000, 8500, 36000, 43200, 1.1, 4.5, 50, 0.6, 50]\n",
    "    results_broine = [-1, 8, 1000, 2000, 32400, 43200, 0.5, 1.9, 21, 0.1, 21]#[-1, 3, 1500, 7500, 39600, 46800, 0.3, 0.5, 25, 0.4, 25]\n",
    "    results_phycap = [-5, -1, 2000, 4000, 32400, 43200, 0.1, 0.4, 42, 0.2, 42]#[-5, -2, 500, 2000, 36000, 46800, 1.2, 2.6, 48, 0.2, 48]"
   ]
  },
  {
   "cell_type": "markdown",
   "metadata": {},
   "source": [
    "## Store the 'best' parameters for each site/species "
   ]
  },
  {
   "cell_type": "code",
   "execution_count": 21,
   "metadata": {},
   "outputs": [],
   "source": [
    "CA_AdeFasBestParams = results_adefas # Adenostam fasciculatum\n",
    "UT_ArtTriBestParams = results_arttri # Artemesia tridentata\n",
    "UT_BroTecBestParams = results_brotec # Bromus tectorum\n",
    "TX_IleVomBestParams = results_ilevom # Ilex vomitoria\n",
    "SD_BroIneBestParams = results_broine # Bromus inermis\n",
    "ID_PhyCapBestParams = results_phycap # Physiocarpus capitatus"
   ]
  },
  {
   "cell_type": "code",
   "execution_count": 22,
   "metadata": {},
   "outputs": [],
   "source": [
    "#MakeGSILFMCompareTable4Param(Met413509,TX_IleVom,[-4, -3, 2000, 6000, 39600, 43200, 0.5, 3.3, 45, 0.7, 45],label=\"TX_IleVomOpt\",UseLFMMinMax = True,Herb=False,PLowLim='2020-01-01',PUpperLim='2022-12-31',Lat=Lat413509)"
   ]
  },
  {
   "cell_type": "code",
   "execution_count": 23,
   "metadata": {},
   "outputs": [
    {
     "data": {
      "text/plain": [
       "[0, 6, 500, 7000, 32400, 36000, 1.2, 4.8, 56, 0.0, 56]"
      ]
     },
     "execution_count": 23,
     "metadata": {},
     "output_type": "execute_result"
    }
   ],
   "source": [
    "# Chamise Parameters\n",
    "results_adefas"
   ]
  },
  {
   "cell_type": "code",
   "execution_count": 24,
   "metadata": {},
   "outputs": [
    {
     "data": {
      "text/plain": [
       "[-5, -2, 1000, 4000, 32400, 36000, 0.7, 1.0, 49, 0.0, 49]"
      ]
     },
     "execution_count": 24,
     "metadata": {},
     "output_type": "execute_result"
    }
   ],
   "source": [
    "# Cheatgrass Parameters\n",
    "results_brotec"
   ]
  },
  {
   "cell_type": "code",
   "execution_count": 25,
   "metadata": {},
   "outputs": [
    {
     "data": {
      "text/plain": [
       "[-4, 0, 1000, 2500, 32400, 36000, 0.6, 4.3, 49, 0.0, 49]"
      ]
     },
     "execution_count": 25,
     "metadata": {},
     "output_type": "execute_result"
    }
   ],
   "source": [
    "# Sagebrush Parameters\n",
    "results_arttri"
   ]
  },
  {
   "cell_type": "code",
   "execution_count": 26,
   "metadata": {},
   "outputs": [
    {
     "data": {
      "text/plain": [
       "[-3, 7, 1000, 6000, 39600, 43200, 1.2, 4.4, 49, 0.5, 49]"
      ]
     },
     "execution_count": 26,
     "metadata": {},
     "output_type": "execute_result"
    }
   ],
   "source": [
    "# Yaupon Parameters\n",
    "results_ilevom"
   ]
  },
  {
   "cell_type": "code",
   "execution_count": 27,
   "metadata": {},
   "outputs": [
    {
     "data": {
      "text/plain": [
       "[-1, 8, 1000, 2000, 32400, 43200, 0.5, 1.9, 21, 0.1, 21]"
      ]
     },
     "execution_count": 27,
     "metadata": {},
     "output_type": "execute_result"
    }
   ],
   "source": [
    "# Smooth Brome parameters\n",
    "results_broine"
   ]
  },
  {
   "cell_type": "code",
   "execution_count": 28,
   "metadata": {},
   "outputs": [
    {
     "data": {
      "text/plain": [
       "[-5, -1, 2000, 4000, 32400, 43200, 0.1, 0.4, 42, 0.2, 42]"
      ]
     },
     "execution_count": 28,
     "metadata": {},
     "output_type": "execute_result"
    }
   ],
   "source": [
    "# Ninebark Parameters\n",
    "results_phycap"
   ]
  },
  {
   "cell_type": "markdown",
   "metadata": {},
   "source": [
    "# Create tables and figures from the NFDRS V4 tech doc"
   ]
  },
  {
   "cell_type": "code",
   "execution_count": 29,
   "metadata": {},
   "outputs": [
    {
     "name": "stdout",
     "output_type": "stream",
     "text": [
      "0.6381955722489746\n",
      "0.8756704883622166\n",
      "0.5467308942649306\n",
      "0.7386899743386844\n",
      "0.5132834208839246\n",
      "0.7162495275313058\n",
      "0.20450188363337793\n",
      "0.46075964802954106\n",
      "0.6195839127766164\n",
      "0.5827159521408624\n",
      "0.44108235448895805\n",
      "0.6001318783618874\n"
     ]
    }
   ],
   "source": [
    "# Cheatgrass\n",
    "temp1a =  MakeGSILFMCompareTable4Param(Met421501,UT_BroTec,defParams,label=\"UT_BroTecDefaults\",UseLFMMinMax = False,Herb=True,Lat=Lat421501)\n",
    "temp1b = MakeGSILFMCompareTable4Param(Met421501,UT_BroTec,UT_BroTecBestParams,label=\"UT_BroTecGSO\",UseLFMMinMax = True,Herb=True,Lat=Lat421501)\n",
    "\n",
    "# Sagebrush\n",
    "temp2a =  MakeGSILFMCompareTable4Param(Met421501,UT_ArtTri,defParams,label=\"UT_ArtTriDefaults\",UseLFMMinMax = False,Herb=False,Lat=Lat421501)\n",
    "temp2b =  MakeGSILFMCompareTable4Param(Met421501,UT_ArtTri,UT_ArtTriBestParams,label=\"UT_ArtTriGSO\",UseLFMMinMax = True,Herb=False,Lat=Lat421501)\n",
    "\n",
    "# Chamise\n",
    "temp3a =  MakeGSILFMCompareTable4Param(Met045433,CA_AdeFas,defParams,label=\"CA_AdeFasDefaults\",UseLFMMinMax = False,Herb=False,Lat=Lat045433)\n",
    "temp3b =  MakeGSILFMCompareTable4Param(Met045433,CA_AdeFas,CA_AdeFasBestParams,label=\"CA_AdeFasGSO\",UseLFMMinMax = True,Herb=False,Lat=Lat045433)\n",
    "\n",
    "# Yaupon\n",
    "temp4a =  MakeGSILFMCompareTable4Param(Met413509,TX_IleVom,defParams,label=\"TX_IleVomDefaults\",UseLFMMinMax = False,Herb=False,PLowLim='2020-01-01',PUpperLim='2022-12-31',Lat=Lat413509)\n",
    "temp4b =  MakeGSILFMCompareTable4Param(Met413509,TX_IleVom,TX_IleVomBestParams,label=\"TX_IleVomGSO\",UseLFMMinMax = True,Herb=False,PLowLim='2020-01-01',PUpperLim='2022-12-31',Lat=Lat413509)\n",
    "\n",
    "# Smooth Brome \n",
    "temp5a =  MakeGSILFMCompareTable4Param(MetSSFS,SD_BroIne,defParams,label=\"SD_BroIneDefaults\",UseLFMMinMax = False,Herb=True,PLowLim='2020-01-01',PUpperLim='2022-12-31',Lat=LatSSFS)\n",
    "temp5b =  MakeGSILFMCompareTable4Param(MetSSFS,SD_BroIne,SD_BroIneBestParams,label=\"SD_BroIneGSO\",UseLFMMinMax = True,Herb=True,PLowLim='2020-01-01',PUpperLim='2022-12-31',Lat=LatSSFS)\n",
    "\n",
    "# Ninebark\n",
    "temp6a =  MakeGSILFMCompareTable4Param(Met101303,ID_PhyCap,defParams,label=\"ID_PhyCapDefaults\",UseLFMMinMax = False,Herb=False,PLowLim='2019-01-01',PUpperLim='2023-12-31',Lat=Lat101303)\n",
    "temp6b =  MakeGSILFMCompareTable4Param(Met101303,ID_PhyCap,ID_PhyCapBestParams,label=\"ID_PhyCapGSO\",UseLFMMinMax = True,Herb=False,PLowLim='2019-01-01',PUpperLim='2023-12-31',Lat=Lat101303)"
   ]
  },
  {
   "cell_type": "markdown",
   "metadata": {},
   "source": [
    "## Reproduce stats for Table 10 from the Technical Document"
   ]
  },
  {
   "cell_type": "code",
   "execution_count": 30,
   "metadata": {},
   "outputs": [
    {
     "data": {
      "text/html": [
       "<div>\n",
       "<style scoped>\n",
       "    .dataframe tbody tr th:only-of-type {\n",
       "        vertical-align: middle;\n",
       "    }\n",
       "\n",
       "    .dataframe tbody tr th {\n",
       "        vertical-align: top;\n",
       "    }\n",
       "\n",
       "    .dataframe thead th {\n",
       "        text-align: right;\n",
       "    }\n",
       "</style>\n",
       "<table border=\"1\" class=\"dataframe\">\n",
       "  <thead>\n",
       "    <tr style=\"text-align: right;\">\n",
       "      <th></th>\n",
       "      <th>Site_Species</th>\n",
       "      <th>rho_GSI-LFMC</th>\n",
       "      <th>GSI-LFMC-pval</th>\n",
       "      <th>GSI-LFMC-MAE</th>\n",
       "      <th>GSI-LFMC-R2</th>\n",
       "      <th>rho_LFMC-V2</th>\n",
       "      <th>LFMC-V2-pval</th>\n",
       "      <th>LFMC-V2-MAE</th>\n",
       "      <th>LFMC-V2-R2</th>\n",
       "      <th>N</th>\n",
       "    </tr>\n",
       "  </thead>\n",
       "  <tbody>\n",
       "    <tr>\n",
       "      <th>0</th>\n",
       "      <td>UT_BroTecDefaults</td>\n",
       "      <td>0.789</td>\n",
       "      <td>0.000</td>\n",
       "      <td>27.558</td>\n",
       "      <td>0.638</td>\n",
       "      <td>0.289</td>\n",
       "      <td>0.032</td>\n",
       "      <td>68.580</td>\n",
       "      <td>0.078</td>\n",
       "      <td>55</td>\n",
       "    </tr>\n",
       "    <tr>\n",
       "      <th>1</th>\n",
       "      <td>UT_BroTecGSO</td>\n",
       "      <td>0.924</td>\n",
       "      <td>0.000</td>\n",
       "      <td>23.857</td>\n",
       "      <td>0.876</td>\n",
       "      <td>0.289</td>\n",
       "      <td>0.032</td>\n",
       "      <td>68.580</td>\n",
       "      <td>0.078</td>\n",
       "      <td>55</td>\n",
       "    </tr>\n",
       "    <tr>\n",
       "      <th>2</th>\n",
       "      <td>UT_ArtTriDefaults</td>\n",
       "      <td>0.749</td>\n",
       "      <td>0.000</td>\n",
       "      <td>37.858</td>\n",
       "      <td>0.547</td>\n",
       "      <td>-0.165</td>\n",
       "      <td>0.228</td>\n",
       "      <td>59.627</td>\n",
       "      <td>0.000</td>\n",
       "      <td>55</td>\n",
       "    </tr>\n",
       "    <tr>\n",
       "      <th>3</th>\n",
       "      <td>UT_ArtTriGSO</td>\n",
       "      <td>0.880</td>\n",
       "      <td>0.000</td>\n",
       "      <td>38.023</td>\n",
       "      <td>0.739</td>\n",
       "      <td>-0.165</td>\n",
       "      <td>0.228</td>\n",
       "      <td>59.627</td>\n",
       "      <td>0.000</td>\n",
       "      <td>55</td>\n",
       "    </tr>\n",
       "    <tr>\n",
       "      <th>4</th>\n",
       "      <td>CA_AdeFasDefaults</td>\n",
       "      <td>0.586</td>\n",
       "      <td>0.000</td>\n",
       "      <td>17.847</td>\n",
       "      <td>0.513</td>\n",
       "      <td>0.180</td>\n",
       "      <td>0.062</td>\n",
       "      <td>25.868</td>\n",
       "      <td>0.007</td>\n",
       "      <td>108</td>\n",
       "    </tr>\n",
       "    <tr>\n",
       "      <th>5</th>\n",
       "      <td>CA_AdeFasGSO</td>\n",
       "      <td>0.821</td>\n",
       "      <td>0.000</td>\n",
       "      <td>13.258</td>\n",
       "      <td>0.716</td>\n",
       "      <td>0.180</td>\n",
       "      <td>0.062</td>\n",
       "      <td>25.868</td>\n",
       "      <td>0.007</td>\n",
       "      <td>108</td>\n",
       "    </tr>\n",
       "    <tr>\n",
       "      <th>6</th>\n",
       "      <td>TX_IleVomDefaults</td>\n",
       "      <td>0.381</td>\n",
       "      <td>0.001</td>\n",
       "      <td>34.164</td>\n",
       "      <td>0.205</td>\n",
       "      <td>0.467</td>\n",
       "      <td>0.000</td>\n",
       "      <td>30.180</td>\n",
       "      <td>0.195</td>\n",
       "      <td>69</td>\n",
       "    </tr>\n",
       "    <tr>\n",
       "      <th>7</th>\n",
       "      <td>TX_IleVomGSO</td>\n",
       "      <td>0.727</td>\n",
       "      <td>0.000</td>\n",
       "      <td>17.815</td>\n",
       "      <td>0.461</td>\n",
       "      <td>0.467</td>\n",
       "      <td>0.000</td>\n",
       "      <td>30.180</td>\n",
       "      <td>0.195</td>\n",
       "      <td>69</td>\n",
       "    </tr>\n",
       "    <tr>\n",
       "      <th>8</th>\n",
       "      <td>SD_BroIneDefaults</td>\n",
       "      <td>0.781</td>\n",
       "      <td>0.000</td>\n",
       "      <td>34.312</td>\n",
       "      <td>0.620</td>\n",
       "      <td>0.865</td>\n",
       "      <td>0.000</td>\n",
       "      <td>69.995</td>\n",
       "      <td>0.653</td>\n",
       "      <td>21</td>\n",
       "    </tr>\n",
       "    <tr>\n",
       "      <th>9</th>\n",
       "      <td>SD_BroIneGSO</td>\n",
       "      <td>0.881</td>\n",
       "      <td>0.000</td>\n",
       "      <td>46.315</td>\n",
       "      <td>0.583</td>\n",
       "      <td>0.865</td>\n",
       "      <td>0.000</td>\n",
       "      <td>69.995</td>\n",
       "      <td>0.653</td>\n",
       "      <td>21</td>\n",
       "    </tr>\n",
       "    <tr>\n",
       "      <th>10</th>\n",
       "      <td>ID_PhyCapDefaults</td>\n",
       "      <td>0.643</td>\n",
       "      <td>0.000</td>\n",
       "      <td>64.317</td>\n",
       "      <td>0.441</td>\n",
       "      <td>0.065</td>\n",
       "      <td>0.699</td>\n",
       "      <td>78.708</td>\n",
       "      <td>0.000</td>\n",
       "      <td>38</td>\n",
       "    </tr>\n",
       "    <tr>\n",
       "      <th>11</th>\n",
       "      <td>ID_PhyCapGSO</td>\n",
       "      <td>0.792</td>\n",
       "      <td>0.000</td>\n",
       "      <td>36.018</td>\n",
       "      <td>0.600</td>\n",
       "      <td>0.065</td>\n",
       "      <td>0.699</td>\n",
       "      <td>78.708</td>\n",
       "      <td>0.000</td>\n",
       "      <td>38</td>\n",
       "    </tr>\n",
       "  </tbody>\n",
       "</table>\n",
       "</div>"
      ],
      "text/plain": [
       "         Site_Species  rho_GSI-LFMC  GSI-LFMC-pval  GSI-LFMC-MAE  GSI-LFMC-R2  \\\n",
       "0   UT_BroTecDefaults         0.789          0.000        27.558        0.638   \n",
       "1        UT_BroTecGSO         0.924          0.000        23.857        0.876   \n",
       "2   UT_ArtTriDefaults         0.749          0.000        37.858        0.547   \n",
       "3        UT_ArtTriGSO         0.880          0.000        38.023        0.739   \n",
       "4   CA_AdeFasDefaults         0.586          0.000        17.847        0.513   \n",
       "5        CA_AdeFasGSO         0.821          0.000        13.258        0.716   \n",
       "6   TX_IleVomDefaults         0.381          0.001        34.164        0.205   \n",
       "7        TX_IleVomGSO         0.727          0.000        17.815        0.461   \n",
       "8   SD_BroIneDefaults         0.781          0.000        34.312        0.620   \n",
       "9        SD_BroIneGSO         0.881          0.000        46.315        0.583   \n",
       "10  ID_PhyCapDefaults         0.643          0.000        64.317        0.441   \n",
       "11       ID_PhyCapGSO         0.792          0.000        36.018        0.600   \n",
       "\n",
       "    rho_LFMC-V2  LFMC-V2-pval  LFMC-V2-MAE  LFMC-V2-R2    N  \n",
       "0         0.289         0.032       68.580       0.078   55  \n",
       "1         0.289         0.032       68.580       0.078   55  \n",
       "2        -0.165         0.228       59.627       0.000   55  \n",
       "3        -0.165         0.228       59.627       0.000   55  \n",
       "4         0.180         0.062       25.868       0.007  108  \n",
       "5         0.180         0.062       25.868       0.007  108  \n",
       "6         0.467         0.000       30.180       0.195   69  \n",
       "7         0.467         0.000       30.180       0.195   69  \n",
       "8         0.865         0.000       69.995       0.653   21  \n",
       "9         0.865         0.000       69.995       0.653   21  \n",
       "10        0.065         0.699       78.708       0.000   38  \n",
       "11        0.065         0.699       78.708       0.000   38  "
      ]
     },
     "execution_count": 30,
     "metadata": {},
     "output_type": "execute_result"
    }
   ],
   "source": [
    "data = [temp1a,temp1b,temp2a,temp2b,temp3a,temp3b,temp4a,temp4b,temp5a,temp5b,temp6a,temp6b]\n",
    "pd.DataFrame(data, columns=[\"Site_Species\",\"rho_GSI-LFMC\",\"GSI-LFMC-pval\",\"GSI-LFMC-MAE\",\"GSI-LFMC-R2\",\"rho_LFMC-V2\",\"LFMC-V2-pval\",\"LFMC-V2-MAE\",\"LFMC-V2-R2\",\"N\"])"
   ]
  },
  {
   "cell_type": "code",
   "execution_count": 31,
   "metadata": {},
   "outputs": [],
   "source": [
    "MM_UT_BroTecOpt = GetMetMerge(Met421501, UT_BroTec,UT_BroTecBestParams,UseLFMMinMax=True,Lat=Lat421501,Herb=True)\n",
    "MM_UT_ArtTriOpt = GetMetMerge(Met421501, UT_ArtTri,UT_ArtTriBestParams,UseLFMMinMax=True,Lat=Lat421501)\n",
    "MM_CA_AdeFasOpt = GetMetMerge(Met045433,CA_AdeFas,results_adefas,UseLFMMinMax=True,Lat=Lat045433)\n",
    "MM_TX_IleVomOpt = GetMetMerge(Met413509,TX_IleVom,results_ilevom,UseLFMMinMax=True,Lat=Lat413509,PLowLim='2020-01-01',PUpperLim = '2023-12-31')\n",
    "MM_SD_BroIneOpt = GetMetMerge(MetSSFS,SD_BroIne,results_broine,UseLFMMinMax=True,Lat=LatSSFS,PLowLim='2020-01-01',PUpperLim = '2022-12-31')\n",
    "MM_ID_PhyCapOpt = GetMetMerge(Met101303,ID_PhyCap,ID_PhyCapBestParams,UseLFMMinMax=True,Lat=Lat101303,PLowLim='2019-01-01',PUpperLim = '2023-12-31')\n",
    "\n",
    "# Assign either the Herb or Woody FM from Version 2 to the column \"FM\" for comparison across fuel types\n",
    "MM_UT_BroTecOpt['FM'] = MM_UT_BroTecOpt['FMH']\n",
    "MM_UT_ArtTriOpt['FM'] = MM_UT_ArtTriOpt['FMW']\n",
    "MM_CA_AdeFasOpt['FM'] = MM_CA_AdeFasOpt['FMW']\n",
    "MM_TX_IleVomOpt['FM'] = MM_TX_IleVomOpt['FMW']\n",
    "MM_SD_BroIneOpt['FM'] = MM_SD_BroIneOpt['FMH']\n",
    "MM_ID_PhyCapOpt['FM'] = MM_ID_PhyCapOpt['FMW']"
   ]
  },
  {
   "cell_type": "code",
   "execution_count": 32,
   "metadata": {},
   "outputs": [
    {
     "name": "stdout",
     "output_type": "stream",
     "text": [
      "LFMC Obs vs GSI-LFMC Sample Size Total:  346\n"
     ]
    }
   ],
   "source": [
    "print(\"LFMC Obs vs GSI-LFMC Sample Size Total: \",\n",
    "      MM_UT_BroTecOpt.index.size + MM_UT_ArtTriOpt.index.size + \n",
    "      MM_CA_AdeFasOpt.index.size + MM_TX_IleVomOpt.index.size + \n",
    "      MM_SD_BroIneOpt.index.size + MM_ID_PhyCapOpt.index.size)"
   ]
  },
  {
   "cell_type": "code",
   "execution_count": 33,
   "metadata": {},
   "outputs": [],
   "source": [
    "MM_UT_BroTecOpt['DateTime'] = pd.to_datetime(MM_UT_BroTecOpt['DateTime'],format='%Y-%m-%d %H:%M:%S')\n",
    "MM_UT_ArtTriOpt['DateTime'] = pd.to_datetime(MM_UT_ArtTriOpt['DateTime'],format='%Y-%m-%d %H:%M:%S')\n",
    "MM_CA_AdeFasOpt['DateTime'] = pd.to_datetime(MM_CA_AdeFasOpt['DateTime'],format='%Y-%m-%d %H:%M:%S')\n",
    "MM_TX_IleVomOpt['DateTime'] = pd.to_datetime(MM_TX_IleVomOpt['DateTime'],format='%Y-%m-%d %H:%M:%S')\n",
    "MM_SD_BroIneOpt['DateTime'] = pd.to_datetime(MM_SD_BroIneOpt['DateTime'],format='%Y-%m-%d %H:%M:%S')\n",
    "MM_ID_PhyCapOpt['DateTime'] = pd.to_datetime(MM_ID_PhyCapOpt['DateTime'],format='%Y-%m-%d %H:%M:%S')"
   ]
  },
  {
   "cell_type": "markdown",
   "metadata": {},
   "source": [
    "## Create Figure 5 from the NFDRS V4 technical document paper"
   ]
  },
  {
   "cell_type": "code",
   "execution_count": 34,
   "metadata": {
    "scrolled": true
   },
   "outputs": [
    {
     "data": {
      "image/png": "[encoded data removed]",
      "text/plain": [
       "<Figure size 500x1200 with 6 Axes>"
      ]
     },
     "metadata": {},
     "output_type": "display_data"
    }
   ],
   "source": [
    "f,ax = plt.subplots(6,1,figsize=(5,12))\n",
    "## Plot BroTec\n",
    "MM_UT_BroTecOpt.plot.scatter(x='DateTime',y='LFMC',ax=ax[0],marker=mkr_nf1,color=clr_nf1, edgecolor=clr_edg_nf)\n",
    "MM_UT_BroTecOpt.plot.scatter(x='DateTime',y='Percent',ax=ax[0],marker=mkr_nf2,color=clr_nf2, edgecolor=clr_edg_nf)\n",
    "ax[0].set_xlim([datetime(2015, 1, 1), datetime(2019, 12, 31)])\n",
    "ax[0].set_xlabel(\"\")\n",
    "ax[0].set_title(\"[A] Bromus tectorum (Cheatgrass)\", style='italic')\n",
    "\n",
    "# Define the date format\n",
    "date_form = DateFormatter(\"%Y\")\n",
    "ax[0].xaxis.set_major_formatter(date_form)\n",
    "# Setting the number of ticks\n",
    "ax[0].xaxis.set_major_locator(plt.MaxNLocator(7))\n",
    "ax[0].set_xlabel('')\n",
    "ax[0].set_ylabel('LFMC (% dry wt)')\n",
    "\n",
    "## Plot ArtTri\n",
    "ax[1].set_title(\"[B] Artemisia tridentata (Basin Big Sagebrush)\", style='italic')\n",
    "MM_UT_ArtTriOpt.plot.scatter(x='DateTime',y='LFMC',ax=ax[1],marker=mkr_nf1,color=clr_nf1, edgecolor=clr_edg_nf)\n",
    "MM_UT_ArtTriOpt.plot.scatter(x='DateTime',y='Percent',ax=ax[1],marker=mkr_nf2,color=clr_nf2, edgecolor=clr_edg_nf)\n",
    "ax[1].set_xlim([datetime(2015, 1, 1), datetime(2019, 12, 31)])\n",
    "ax[1].xaxis.set_major_formatter(date_form)\n",
    "ax[1].xaxis.set_major_locator(plt.MaxNLocator(7))\n",
    "ax[1].set_xlabel('')\n",
    "ax[1].set_ylabel('LFMC (% dry wt)')\n",
    "\n",
    "## Plot AdeFas\n",
    "ax[2].set_title(\"[C] Adenostoma fasciculatum (Chamise)\", style='italic')\n",
    "MM_CA_AdeFasOpt.plot.scatter(x='DateTime',y='LFMC',ax=ax[2],marker=mkr_nf1,color=clr_nf1, edgecolor=clr_edg_nf,label='Modeled LFMC',legend=False)\n",
    "MM_CA_AdeFasOpt.plot.scatter(x='DateTime',y='Percent',ax=ax[2],marker=mkr_nf2,color=clr_nf2, edgecolor=clr_edg_nf,label='Measured LFMC',legend=False)\n",
    "ax[2].set_xlim([datetime(2015, 1, 1), datetime(2019, 12, 31)])\n",
    "ax[2].set_xlabel('')\n",
    "ax[2].xaxis.set_major_locator(plt.MaxNLocator(7))\n",
    "ax[2].xaxis.set_major_formatter(date_form)\n",
    "ax[2].set_xlabel('')\n",
    "ax[2].set_ylabel('LFMC (% dry wt)')\n",
    "\n",
    "## Plot IleVom\n",
    "plotind = 3\n",
    "ax[plotind].set_title(\"[D] Ilex vomitoria (Yaupon)\", style='italic')\n",
    "MM_TX_IleVomOpt.plot.scatter(x='DateTime',y='LFMC',ax=ax[plotind],marker=mkr_nf1,color=clr_nf1, edgecolor=clr_edg_nf,label='Modeled LFMC',legend=False)\n",
    "MM_TX_IleVomOpt.plot.scatter(x='DateTime',y='Percent',ax=ax[plotind],marker=mkr_nf2,color=clr_nf2, edgecolor=clr_edg_nf,label='Measured LFMC',legend=False)\n",
    "ax[plotind].set_xlim([datetime(2020, 1, 1), datetime(2022, 12, 31)])\n",
    "ax[plotind].xaxis.set_major_locator(plt.MaxNLocator(7))\n",
    "ax[plotind].xaxis.set_major_formatter(date_form)\n",
    "ax[plotind].set_xlabel(\"\")\n",
    "ax[plotind].set_ylabel('LFMC (% dry wt)')\n",
    "\n",
    "## Plot BroIne\n",
    "plotind = 4\n",
    "ax[plotind].set_title(\"[E] Bromus inermis (Smooth Brome)\", style='italic')\n",
    "MM_SD_BroIneOpt.plot.scatter(x='DateTime',y='LFMC',ax=ax[plotind],marker=mkr_nf1,color=clr_nf1, edgecolor=clr_edg_nf,label='Modeled LFMC',legend=False)\n",
    "MM_SD_BroIneOpt.plot.scatter(x='DateTime',y='Percent',ax=ax[plotind],marker=mkr_nf2,color=clr_nf2, edgecolor=clr_edg_nf,label='Measured LFMC',legend=False)\n",
    "ax[plotind].set_xlim([datetime(2020, 1, 1), datetime(2022, 12, 31)])\n",
    "ax[plotind].set_xlabel(\"Date\")\n",
    "ax[plotind].xaxis.set_major_locator(plt.MaxNLocator(7))\n",
    "ax[plotind].xaxis.set_major_formatter(date_form)\n",
    "ax[plotind].set_xlabel('Date')\n",
    "ax[plotind].set_ylabel('LFMC (% dry wt)')\n",
    "\n",
    "\n",
    "## Plot PhyCap\n",
    "plotind = 5\n",
    "ax[plotind].set_title(\"[F] Physiocarpus capitatus (Pacific Ninebark)\", style='italic')\n",
    "MM_ID_PhyCapOpt.plot.scatter(x='DateTime',y='LFMC',ax=ax[plotind],marker=mkr_nf1,color=clr_nf1, edgecolor=clr_edg_nf,label='Modeled LFMC')\n",
    "MM_ID_PhyCapOpt.plot.scatter(x='DateTime',y='Percent',ax=ax[plotind],marker=mkr_nf2,color=clr_nf2, edgecolor=clr_edg_nf,label='Measured LFMC')\n",
    "ax[plotind].set_xlim([datetime(2020, 1, 1), datetime(2022, 12, 31)])\n",
    "ax[plotind].set_xlabel(\"Date\")\n",
    "ax[plotind].xaxis.set_major_locator(plt.MaxNLocator(7))\n",
    "ax[plotind].xaxis.set_major_formatter(date_form)\n",
    "ax[plotind].set_xlabel('Date')\n",
    "ax[plotind].set_ylabel('LFMC (% dry wt)')\n",
    "ax[5].legend(loc='upper center', bbox_to_anchor=(0.5, -0.37),\n",
    "          fancybox=True, shadow=True, ncol=5)\n",
    "\n",
    "## Write out the figure\n",
    "f.tight_layout()\n",
    "fout = \"./outputs/CombinedGSILFMPlot6panel.png\" \n",
    "if fout != \"\":\n",
    "    plt.savefig(fout,dpi=300, bbox_inches='tight',facecolor='white', transparent=False )\n"
   ]
  },
  {
   "cell_type": "code",
   "execution_count": 35,
   "metadata": {},
   "outputs": [],
   "source": [
    "# Note these use the default parameters for each species\n",
    "MM_UT_BroTec = GetMetMerge(Met421501, UT_BroTec,defParams,UseLFMMinMax=True,Lat=Lat421501,Herb=True)\n",
    "MM_UT_ArtTri = GetMetMerge(Met421501, UT_ArtTri,defParams,UseLFMMinMax=True,Lat=Lat421501)\n",
    "MM_CA_AdeFas = GetMetMerge(Met045433,CA_AdeFas,defParams,UseLFMMinMax=True,Lat=Lat045433)\n",
    "MM_TX_IleVom = GetMetMerge(Met413509,TX_IleVom,defParams,UseLFMMinMax=True,Lat=Lat413509,PLowLim='2020-01-01',PUpperLim = '2023-12-31')\n",
    "MM_SD_BroIne = GetMetMerge(MetSSFS,SD_BroIne,defParams,UseLFMMinMax=True,Lat=LatSSFS,PLowLim='2020-01-01',PUpperLim = '2022-12-31')\n",
    "MM_ID_PhyCap = GetMetMerge(Met101303,ID_PhyCap,defParams,UseLFMMinMax=True,Lat=Lat101303,PLowLim='2019-01-01',PUpperLim = '2023-12-31')\n",
    "\n",
    "# Fix the first comparions against V2 LFMC's\n",
    "MM_UT_BroTec['FM'] = MM_UT_BroTec['FMH']\n",
    "MM_UT_ArtTri['FM'] = MM_UT_ArtTri['FMW']\n",
    "MM_CA_AdeFas['FM'] = MM_CA_AdeFas['FMW']\n",
    "MM_TX_IleVom['FM'] = MM_TX_IleVom['FMW']\n",
    "MM_SD_BroIne['FM'] = MM_SD_BroIne['FMH']\n",
    "MM_ID_PhyCap['FM'] = MM_ID_PhyCap['FMW']\n",
    "\n",
    "# Create a simple dataframe for the correlation for both the default and Grid Search Op\n",
    "MM_GSIDef = pd.concat([MM_UT_BroTec,MM_UT_ArtTri,MM_CA_AdeFas,MM_TX_IleVom,MM_SD_BroIne,MM_ID_PhyCap])\n",
    "MM_GSIDef = MM_GSIDef[['Percent','LFMC','FM']]\n",
    "\n",
    "MM_GSIOpt= pd.concat([MM_UT_BroTecOpt,MM_UT_ArtTriOpt,MM_CA_AdeFasOpt,MM_TX_IleVomOpt,MM_SD_BroIneOpt,MM_ID_PhyCapOpt])\n",
    "MM_GSIOpt = MM_GSIOpt[['Percent','LFMC','FM']]\n"
   ]
  },
  {
   "cell_type": "code",
   "execution_count": 36,
   "metadata": {},
   "outputs": [],
   "source": [
    "MM_Herb_GSIOpt =  pd.concat([MM_UT_BroTecOpt,MM_SD_BroIneOpt])\n",
    "MM_Wood_GSIOpt = pd.concat([MM_UT_ArtTriOpt,MM_CA_AdeFasOpt,MM_TX_IleVomOpt,MM_ID_PhyCapOpt])"
   ]
  },
  {
   "cell_type": "markdown",
   "metadata": {},
   "source": [
    "### Ranges of values for measured woody LFMC for Yaupon"
   ]
  },
  {
   "cell_type": "code",
   "execution_count": 37,
   "metadata": {},
   "outputs": [
    {
     "data": {
      "text/plain": [
       "0.00     91.0\n",
       "0.05    104.4\n",
       "0.50    121.0\n",
       "0.95    151.0\n",
       "1.00    186.0\n",
       "Name: Percent, dtype: float64"
      ]
     },
     "execution_count": 37,
     "metadata": {},
     "output_type": "execute_result"
    }
   ],
   "source": [
    "MM_TX_IleVom.Percent.quantile([0,0.05,0.5,0.95,1])"
   ]
  },
  {
   "cell_type": "markdown",
   "metadata": {},
   "source": [
    "## Ranges of values for measured herbaceous LFMC"
   ]
  },
  {
   "cell_type": "code",
   "execution_count": 38,
   "metadata": {},
   "outputs": [
    {
     "data": {
      "text/plain": [
       "0.00      4.00\n",
       "0.05     10.25\n",
       "0.50     74.50\n",
       "0.95    184.00\n",
       "1.00    279.00\n",
       "Name: Percent, dtype: float64"
      ]
     },
     "execution_count": 38,
     "metadata": {},
     "output_type": "execute_result"
    }
   ],
   "source": [
    "MM_Herb_GSIOpt.Percent.quantile([0,0.05,0.5,0.95,1])"
   ]
  },
  {
   "cell_type": "markdown",
   "metadata": {},
   "source": [
    "## Ranges of values for measured woody LFMC"
   ]
  },
  {
   "cell_type": "code",
   "execution_count": 39,
   "metadata": {},
   "outputs": [
    {
     "data": {
      "text/plain": [
       "0.00     55.0\n",
       "0.05     59.0\n",
       "0.50    108.0\n",
       "0.95    196.0\n",
       "1.00    304.0\n",
       "Name: Percent, dtype: float64"
      ]
     },
     "execution_count": 39,
     "metadata": {},
     "output_type": "execute_result"
    }
   ],
   "source": [
    "MM_Wood_GSIOpt.Percent.quantile([0,0.05,0.5,0.95,1])"
   ]
  },
  {
   "cell_type": "code",
   "execution_count": 40,
   "metadata": {},
   "outputs": [
    {
     "data": {
      "text/plain": [
       "-0.7739404438857747"
      ]
     },
     "execution_count": 40,
     "metadata": {},
     "output_type": "execute_result"
    }
   ],
   "source": [
    "r2_score(MM_GSIDef['Percent'],MM_GSIDef['FM'])"
   ]
  },
  {
   "cell_type": "markdown",
   "metadata": {},
   "source": [
    "## Correlations across all species using the Default GSI parameters"
   ]
  },
  {
   "cell_type": "code",
   "execution_count": 41,
   "metadata": {},
   "outputs": [
    {
     "data": {
      "text/html": [
       "<div>\n",
       "<style scoped>\n",
       "    .dataframe tbody tr th:only-of-type {\n",
       "        vertical-align: middle;\n",
       "    }\n",
       "\n",
       "    .dataframe tbody tr th {\n",
       "        vertical-align: top;\n",
       "    }\n",
       "\n",
       "    .dataframe thead th {\n",
       "        text-align: right;\n",
       "    }\n",
       "</style>\n",
       "<table border=\"1\" class=\"dataframe\">\n",
       "  <thead>\n",
       "    <tr style=\"text-align: right;\">\n",
       "      <th></th>\n",
       "      <th>Percent</th>\n",
       "      <th>LFMC</th>\n",
       "      <th>FM</th>\n",
       "    </tr>\n",
       "  </thead>\n",
       "  <tbody>\n",
       "    <tr>\n",
       "      <th>Percent</th>\n",
       "      <td>1.000000</td>\n",
       "      <td>0.779313</td>\n",
       "      <td>0.329860</td>\n",
       "    </tr>\n",
       "    <tr>\n",
       "      <th>LFMC</th>\n",
       "      <td>0.779313</td>\n",
       "      <td>1.000000</td>\n",
       "      <td>0.473494</td>\n",
       "    </tr>\n",
       "    <tr>\n",
       "      <th>FM</th>\n",
       "      <td>0.329860</td>\n",
       "      <td>0.473494</td>\n",
       "      <td>1.000000</td>\n",
       "    </tr>\n",
       "  </tbody>\n",
       "</table>\n",
       "</div>"
      ],
      "text/plain": [
       "          Percent      LFMC        FM\n",
       "Percent  1.000000  0.779313  0.329860\n",
       "LFMC     0.779313  1.000000  0.473494\n",
       "FM       0.329860  0.473494  1.000000"
      ]
     },
     "execution_count": 41,
     "metadata": {},
     "output_type": "execute_result"
    }
   ],
   "source": [
    "# Pooled correlation for all three species using default parameters\n",
    "MM_GSIDef.corr(method='spearman')"
   ]
  },
  {
   "cell_type": "code",
   "execution_count": 42,
   "metadata": {},
   "outputs": [
    {
     "ename": "NameError",
     "evalue": "name 'p_value' is not defined",
     "output_type": "error",
     "traceback": [
      "\u001b[1;31m---------------------------------------------------------------------------\u001b[0m",
      "\u001b[1;31mNameError\u001b[0m                                 Traceback (most recent call last)",
      "Cell \u001b[1;32mIn[42], line 2\u001b[0m\n\u001b[0;32m      1\u001b[0m slope, intercept, r_value_fm, p_value_def, std_err \u001b[38;5;241m=\u001b[39m linregress(MM_GSIDef[\u001b[38;5;124m'\u001b[39m\u001b[38;5;124mPercent\u001b[39m\u001b[38;5;124m'\u001b[39m],MM_GSIDef[\u001b[38;5;124m'\u001b[39m\u001b[38;5;124mFM\u001b[39m\u001b[38;5;124m'\u001b[39m])\n\u001b[1;32m----> 2\u001b[0m \u001b[38;5;28mprint\u001b[39m(r_value_fm\u001b[38;5;241m*\u001b[39m\u001b[38;5;241m*\u001b[39m\u001b[38;5;241m2\u001b[39m,\u001b[43mp_value\u001b[49m)\n",
      "\u001b[1;31mNameError\u001b[0m: name 'p_value' is not defined"
     ]
    }
   ],
   "source": [
    "slope, intercept, r_value_fm, p_value_def, std_err = linregress(MM_GSIDef['Percent'],MM_GSIDef['FM'])\n",
    "print(r_value_fm**2,p_value)"
   ]
  },
  {
   "cell_type": "code",
   "execution_count": null,
   "metadata": {},
   "outputs": [],
   "source": [
    "slope, intercept, r_value_def, p_value_def, std_err = linregress(MM_GSIDef['Percent'],MM_GSIDef['LFMC'])"
   ]
  },
  {
   "cell_type": "code",
   "execution_count": null,
   "metadata": {},
   "outputs": [],
   "source": [
    "r_value_def**2"
   ]
  },
  {
   "cell_type": "markdown",
   "metadata": {},
   "source": [
    "## Correlations across all species using the Grid Search Optimized GSI parameters at each site"
   ]
  },
  {
   "cell_type": "code",
   "execution_count": null,
   "metadata": {},
   "outputs": [],
   "source": [
    "MM_GSIOpt.corr(method='spearman')"
   ]
  },
  {
   "cell_type": "code",
   "execution_count": null,
   "metadata": {},
   "outputs": [],
   "source": [
    "slope, intercept, r_value_opt, p_value, std_err = linregress(MM_GSIOpt['Percent'],MM_GSIOpt['LFMC'])"
   ]
  },
  {
   "cell_type": "code",
   "execution_count": null,
   "metadata": {},
   "outputs": [],
   "source": [
    "r_value_opt**2"
   ]
  },
  {
   "cell_type": "markdown",
   "metadata": {},
   "source": [
    "## Create Figure 4 from the NFDRFS V4 technical document paper"
   ]
  },
  {
   "cell_type": "code",
   "execution_count": null,
   "metadata": {},
   "outputs": [],
   "source": [
    "f,ax = plt.subplots(3,1,figsize=(5,12))\n",
    "MM_UT_BroTec.plot.scatter(x='Percent',y='FMH',ax=ax[0],label=\"BroTec\",marker=mkr_nf1,color=clr_nf1,edgecolor=clr_edg_nf)\n",
    "MM_UT_ArtTri.plot.scatter(x='Percent',y='FMW',ax=ax[0],label=\"ArtTri\",marker=mkr_nf2,color=clr_nf2,edgecolor=clr_edg_nf)\n",
    "MM_CA_AdeFas.plot.scatter(x='Percent',y='FMW',ax=ax[0],label=\"AdeFas\",marker=mkr_nf3,color=clr_nf3,edgecolor=clr_edg_nf)\n",
    "MM_TX_IleVom.plot.scatter(x='Percent',y='FMW',ax=ax[0],label=\"IleVom\",marker=mkr_nf4,color=clr_nf4,edgecolor=clr_edg_nf)\n",
    "MM_SD_BroIne.plot.scatter(x='Percent',y='FMW',ax=ax[0],label=\"BroIne\",marker=mkr_nf5,color=clr_nf5,edgecolor=clr_edg_nf)\n",
    "MM_ID_PhyCap.plot.scatter(x='Percent',y='FMW',ax=ax[0],label=\"PhyCap\",marker=mkr_nf6,color=clr_nf6,edgecolor=clr_edg_nf)\n",
    "ax[0].plot([0,250],[0,250],color='black')\n",
    "ax[0].legend(loc='upper left')\n",
    "ax[0].set_xlabel(\"\")\n",
    "ax[0].set_ylabel(\"Modeled LFMC (% dry wt)\")\n",
    "ax[0].set_title('NFDRS Version 2 LFMC Model')\n",
    "\n",
    "MM_UT_BroTec.plot.scatter(x='Percent',y='LFMC',ax=ax[1],marker=mkr_nf1,color=clr_nf1,edgecolor=clr_edg_nf)\n",
    "MM_UT_ArtTri.plot.scatter(x='Percent',y='LFMC',ax=ax[1],marker=mkr_nf2,color=clr_nf2,edgecolor=clr_edg_nf)\n",
    "MM_CA_AdeFas.plot.scatter(x='Percent',y='LFMC',ax=ax[1],marker=mkr_nf3,color=clr_nf3,edgecolor=clr_edg_nf)\n",
    "MM_TX_IleVom.plot.scatter(x='Percent',y='LFMC',ax=ax[1],marker=mkr_nf4,color=clr_nf4,edgecolor=clr_edg_nf)\n",
    "MM_SD_BroIne.plot.scatter(x='Percent',y='LFMC',ax=ax[1],marker=mkr_nf5,color=clr_nf5,edgecolor=clr_edg_nf)\n",
    "MM_ID_PhyCap.plot.scatter(x='Percent',y='LFMC',ax=ax[1],marker=mkr_nf6,color=clr_nf6,edgecolor=clr_edg_nf)\n",
    "ax[1].plot([0,250],[0,250],color='black')\n",
    "#ax[1].legend(loc='lower left',bbox_to_anchor=(1.0, 1.0))\n",
    "ax[1].set_xlabel(\"\")\n",
    "ax[1].set_ylabel(\"Modeled LFMC (% dry wt)\")\n",
    "ax[1].set_title('NFDRS Version 4 Default GSI Parameters')\n",
    "\n",
    "MM_UT_BroTecOpt.plot.scatter(x='Percent',y='LFMC',ax=ax[2],marker=mkr_nf1,color=clr_nf1,edgecolor=clr_edg_nf)\n",
    "MM_UT_ArtTriOpt.plot.scatter(x='Percent',y='LFMC',ax=ax[2],marker=mkr_nf2,color=clr_nf2,edgecolor=clr_edg_nf)\n",
    "MM_CA_AdeFasOpt.plot.scatter(x='Percent',y='LFMC',ax=ax[2],marker=mkr_nf3,color=clr_nf3,edgecolor=clr_edg_nf)\n",
    "MM_TX_IleVomOpt.plot.scatter(x='Percent',y='LFMC',ax=ax[2],marker=mkr_nf4,color=clr_nf4,edgecolor=clr_edg_nf)\n",
    "MM_SD_BroIneOpt.plot.scatter(x='Percent',y='LFMC',ax=ax[2],marker=mkr_nf5,color=clr_nf5,edgecolor=clr_edg_nf)\n",
    "MM_ID_PhyCapOpt.plot.scatter(x='Percent',y='LFMC',ax=ax[2],marker=mkr_nf6,color=clr_nf6,edgecolor=clr_edg_nf)\n",
    "ax[2].plot([0,250],[0,250],color='black')\n",
    "#ax[1].legend(loc='lower left',bbox_to_anchor=(1.0, 1.0))\n",
    "ax[2].set_xlabel(\"Measured LFMC (% dry wt)\")\n",
    "ax[2].set_ylabel(\"Modeled LFMC (% dry wt)\")\n",
    "ax[2].set_title('NFDRS Version 4 Grid-Search Optimized GSI Parameters')\n",
    "\n",
    "plt.tight_layout()\n",
    "fout = './outputs/FuelMoistureComparisons_3Grid.png'\n",
    "if fout != \"\":\n",
    "    plt.savefig(fout,dpi=300, bbox_inches='tight',facecolor='white', transparent=False )\n"
   ]
  },
  {
   "cell_type": "markdown",
   "metadata": {},
   "source": [
    "### The following code is just to demonstrate some aspects of the GSI calculations such as differences in the cumulative precip between locations and choice of threshold and smoothing period for optimizations."
   ]
  },
  {
   "cell_type": "code",
   "execution_count": null,
   "metadata": {},
   "outputs": [],
   "source": [
    "Met421501RunSumPrcp = Met421501.RunSumPrcp.dropna()\n",
    "Met045433RunSumPrcp = Met045433.RunSumPrcp.dropna()"
   ]
  },
  {
   "cell_type": "code",
   "execution_count": null,
   "metadata": {},
   "outputs": [],
   "source": [
    "# Calculate the cumulative proportion of the data that falls below each value\n",
    "cumulative = np.linspace(0, 1, len(Met421501RunSumPrcp))\n",
    "cumulative2 = np.linspace(0, 1, len(Met045433RunSumPrcp))\n",
    "# Sort the data in ascending order\n",
    "sorted_data = np.sort(Met421501RunSumPrcp)\n",
    "sorted_data2 = np.sort(Met045433RunSumPrcp)\n",
    "\n",
    "# Calculate the cumulative proportion of the sorted data\n",
    "cumulative_data = np.cumsum(sorted_data) / np.sum(sorted_data)\n",
    "cumulative_data2 = np.cumsum(sorted_data2) / np.sum(sorted_data2)\n"
   ]
  },
  {
   "cell_type": "code",
   "execution_count": null,
   "metadata": {},
   "outputs": [],
   "source": [
    "# Plot the CDF\n",
    "plt.plot(sorted_data, cumulative_data,label='Servier Reservoir, UT')\n",
    "plt.plot(sorted_data2, cumulative_data2,label='Beverly Hills, CA')\n",
    "# Add labels and title\n",
    "plt.xlabel(\"Running Total Precip (in)\")\n",
    "plt.ylabel(\"Cumulative Proportion\")\n",
    "plt.legend()\n",
    "plt.title(\"Cumulative Distribution Function (CDF) of Running Total Precip (in)\")"
   ]
  },
  {
   "cell_type": "code",
   "execution_count": null,
   "metadata": {},
   "outputs": [],
   "source": [
    "## Look up the percentiles of Cum Rainfall\n",
    "print(stats.percentileofscore(Met421501.RunSumPrcp.dropna(), 0.393701))\n",
    "print(stats.percentileofscore(Met421501.RunSumPrcp.dropna(), 1.1))\n",
    "print(stats.percentileofscore(Met045433.RunSumPrcp.dropna(), 0.393701))\n",
    "print(stats.percentileofscore(Met045433.RunSumPrcp.dropna(), 3.6))"
   ]
  },
  {
   "cell_type": "code",
   "execution_count": null,
   "metadata": {},
   "outputs": [],
   "source": [
    "print(stats.percentileofscore(Met421501.RunSumPrcp.dropna(), 1.1))"
   ]
  },
  {
   "cell_type": "code",
   "execution_count": null,
   "metadata": {},
   "outputs": [],
   "source": [
    "SIM = False\n",
    "if SIM:\n",
    "    # Test the default Green-up threshold \n",
    "    corrs = []\n",
    "    DayRange = np.arange(7,100,7,dtype='int')\n",
    "    for i in DayRange:\n",
    "        print('Days: ', i)\n",
    "        for j in range(0,10):\n",
    "            GU = j / 10\n",
    "            Days = int(i)\n",
    "            #defParams = [-2, 5, 900, 4100, 36000, 39600, 0, 0.393701, Days,GU,Days]\n",
    "            \n",
    "            MM_UT_BroTec = GetMetMerge(Met421501, UT_BroTec,defParams,UseLFMMinMax=False,Lat=Lat421501, Herb=True)\n",
    "            MM_UT_ArtTri = GetMetMerge(Met421501, UT_ArtTri,defParams,UseLFMMinMax=False,Lat=Lat421501)\n",
    "            MM_CA_AdeFas = GetMetMerge(Met045433,CA_AdeFas,defParams,UseLFMMinMax=False,Lat=Lat045433)\n",
    "            \n",
    "            MM_GSIDef = pd.concat([MM_UT_BroTec,MM_UT_ArtTri,MM_CA_AdeFas])\n",
    "            MM_GSIDef = MM_GSIDef.drop(columns=['GACC','State','Group','Site','Date','Fuel','Unnamed: 7','DateTime',\n",
    "                                                'DATE','Tmin','MaxT','MnRH','MxRH','VPDMax','VPDA','Prcp',\n",
    "                                                'RunSumPrcp','MinTC','Dayl','JDay','GSI_PE_RS',\n",
    "                                               'TminInd','VPDInd','DaylInd','PrcpInd','FMW','FMH'])\n",
    "            # Append the correlation to the list\n",
    "            corrs.append(MM_GSIDef.corr(method='spearman')['Percent'][1])\n",
    "\n",
    "if SIM:\n",
    "    arr = np.array(corrs)\n",
    "    # Use around() to round the array\n",
    "    rounded_corrs = np.around(arr,decimals=3)    \n",
    "else:\n",
    "    rounded_corrs = [0.552, 0.543, 0.5  , 0.48 , 0.466, 0.424, 0.394, 0.333, 0.293, 0.276, 0.691, 0.669, 0.646, 0.624, 0.571, 0.525, 0.435, 0.368,\n",
    "       0.314, 0.292, 0.766, 0.765, 0.753, 0.724, 0.694, 0.604, 0.511, 0.412, 0.332, 0.299, 0.786, 0.791, 0.808, 0.779, 0.756, 0.719,\n",
    "       0.606, 0.538, 0.335, 0.291, 0.771, 0.778, 0.802, 0.793, 0.785, 0.731, 0.606, 0.549, 0.436, 0.297, 0.755, 0.773, 0.795, 0.784,\n",
    "       0.796, 0.796, 0.696, 0.55 , 0.526, 0.317, 0.722, 0.744, 0.763, 0.768, 0.768, 0.765, 0.737, 0.538, 0.489, 0.338, 0.697, 0.726,\n",
    "       0.747, 0.749, 0.756, 0.767, 0.732, 0.576, 0.471, 0.339, 0.66 , 0.696, 0.708, 0.727, 0.728, 0.73 , 0.704, 0.571, 0.42 , 0.298,\n",
    "       0.613, 0.639, 0.656, 0.674, 0.682, 0.682, 0.66 , 0.502, 0.389, 0.3  , 0.568, 0.592, 0.611, 0.631, 0.639, 0.642, 0.626, 0.491,\n",
    "       0.393, 0.329, 0.517, 0.535, 0.556, 0.576, 0.602, 0.603, 0.565, 0.488, 0.41 , 0.332, 0.461, 0.478, 0.498, 0.516, 0.543, 0.549,\n",
    "       0.516, 0.472, 0.377, 0.332, 0.4  , 0.419, 0.438, 0.46 , 0.489, 0.508, 0.459, 0.471, 0.408, 0.343]\n",
    "X = np.arange(0, 1, 0.1)\n",
    "Y = np.arange(7,100,7,dtype='int')\n",
    "corrs_new = np.array(rounded_corrs).reshape(len(Y), len(X))\n",
    "\n",
    "fig, ax = plt.subplots()\n",
    "CS = ax.contour(X, Y, corrs_new)\n",
    "ax.clabel(CS, inline=True, fontsize=10)\n",
    "ax.set_title('Default parameters correlation')\n",
    "ax.set_xlabel(\"Green-up Threshold (dim)\")\n",
    "ax.set_ylabel(\"Smoothing Period (days)\")"
   ]
  },
  {
   "cell_type": "code",
   "execution_count": null,
   "metadata": {},
   "outputs": [],
   "source": []
  }
 ],
 "metadata": {
  "kernelspec": {
   "display_name": "Python 3 (ipykernel)",
   "language": "python",
   "name": "python3"
  },
  "language_info": {
   "codemirror_mode": {
    "name": "ipython",
    "version": 3
   },
   "file_extension": ".py",
   "mimetype": "text/x-python",
   "name": "python",
   "nbconvert_exporter": "python",
   "pygments_lexer": "ipython3",
   "version": "3.12.4"
  },
  "toc-autonumbering": true
 },
 "nbformat": 4,
 "nbformat_minor": 4
}
